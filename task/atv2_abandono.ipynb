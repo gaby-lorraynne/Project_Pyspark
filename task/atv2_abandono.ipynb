{
 "cells": [
  {
   "cell_type": "code",
   "execution_count": 1,
   "id": "623c2992",
   "metadata": {},
   "outputs": [],
   "source": [
    "import os\n",
    "import sys\n",
    "import datetime\n",
    "import pandas as pd\n",
    "import boto3\n",
    "\n",
    "# Inicializa ambiente\n",
    "os.environ['PYSPARK_PYTHON'] = sys.executable\n",
    "os.environ['PYSPARK_DRIVER_PYTHON'] = sys.executable"
   ]
  },
  {
   "cell_type": "code",
   "execution_count": 2,
   "id": "36062dd2",
   "metadata": {},
   "outputs": [],
   "source": [
    "from tabulate import tabulate\n",
    "from pyspark.sql import SparkSession\n",
    "from pyspark.sql.functions import *\n",
    "from boto3.dynamodb.conditions import Key\n",
    "from dotenv import load_dotenv"
   ]
  },
  {
   "cell_type": "code",
   "execution_count": 3,
   "id": "60c3a9b3",
   "metadata": {},
   "outputs": [
    {
     "data": {
      "text/plain": [
       "True"
      ]
     },
     "execution_count": 3,
     "metadata": {},
     "output_type": "execute_result"
    }
   ],
   "source": [
    "# Carrega variáveis de ambiente do arquivo .env\n",
    "load_dotenv()"
   ]
  },
  {
   "cell_type": "code",
   "execution_count": 4,
   "id": "0370449d",
   "metadata": {},
   "outputs": [],
   "source": [
    "spark = SparkSession.builder \\\n",
    "    .appName(\"TarefasAbandonadas6meses\") \\\n",
    "    .config(\"spark.sql.adaptive.enabled\", \"true\") \\\n",
    "    .config(\"spark.sql.adaptive.coalescePartitions.enabled\", \"true\") \\\n",
    "    .config(\"spark.serializer\", \"org.apache.spark.serializer.KryoSerializer\") \\\n",
    "    .config(\"spark.network.timeout\", \"600s\") \\\n",
    "    .config(\"spark.executor.heartbeatInterval\", \"60s\") \\\n",
    "    .config(\"spark.sql.execution.arrow.pyspark.enabled\", \"false\") \\\n",
    "    .getOrCreate()\n",
    "\n",
    "spark.sparkContext.setLogLevel(\"WARN\")"
   ]
  },
  {
   "cell_type": "code",
   "execution_count": 5,
   "id": "6e922b3a",
   "metadata": {},
   "outputs": [],
   "source": [
    "dynamodb = boto3.resource('dynamodb', region_name='sa-east-1')\n",
    "table = dynamodb.Table(\"ListaMercado\")"
   ]
  },
  {
   "cell_type": "code",
   "execution_count": 6,
   "id": "835ff5cc",
   "metadata": {},
   "outputs": [],
   "source": [
    "hoje = datetime.date.today()"
   ]
  },
  {
   "cell_type": "code",
   "execution_count": 7,
   "id": "e531700e",
   "metadata": {},
   "outputs": [],
   "source": [
    "def gerar_datas_6_meses(data_atual):\n",
    "    datas = []\n",
    "    data_inicio = data_atual - datetime.timedelta(days=180)\n",
    "    data_iter = data_inicio\n",
    "    while data_iter <= data_atual:\n",
    "        datas.append(data_iter.strftime(\"%Y%m%d\"))\n",
    "        data_iter += datetime.timedelta(days=1)\n",
    "    return datas\n"
   ]
  },
  {
   "cell_type": "code",
   "execution_count": 8,
   "id": "ee0426c0",
   "metadata": {},
   "outputs": [],
   "source": [
    "todas_datas = gerar_datas_6_meses(hoje)"
   ]
  },
  {
   "cell_type": "code",
   "execution_count": 9,
   "id": "cdc811ae",
   "metadata": {},
   "outputs": [],
   "source": [
    "todos_registros = []\n",
    "datas_com_dados = []\n",
    "total_queries = 0\n",
    "lote_size = 50"
   ]
  },
  {
   "cell_type": "code",
   "execution_count": 10,
   "id": "8e3cb0d4",
   "metadata": {},
   "outputs": [
    {
     "name": "stdout",
     "output_type": "stream",
     "text": [
      "- Total de queries executadas: 181\n",
      "- Datas com dados: 132\n",
      "- Total de registros encontrados: 242\n"
     ]
    }
   ],
   "source": [
    "for i in range(0, len(todas_datas), lote_size):\n",
    "    lote_datas = todas_datas[i:i+lote_size]\n",
    "    for data in lote_datas:\n",
    "        pk = f\"LIST#{data}\"\n",
    "        total_queries += 1\n",
    "        try:\n",
    "            response = table.query(KeyConditionExpression=Key(\"PK\").eq(pk))\n",
    "            registros = response.get(\"Items\", [])\n",
    "            if registros:\n",
    "                todos_registros.extend(registros)\n",
    "                datas_com_dados.append(data)\n",
    "        except:\n",
    "            pass\n",
    "\n",
    "if not todos_registros:\n",
    "    print(\"Nenhum registro encontrado!\")\n",
    "    spark.stop()\n",
    "    exit()\n",
    "\n",
    "print(f\"- Total de queries executadas: {total_queries}\")\n",
    "print(f\"- Datas com dados: {len(datas_com_dados)}\")\n",
    "print(f\"- Total de registros encontrados: {len(todos_registros)}\")"
   ]
  },
  {
   "cell_type": "code",
   "execution_count": 11,
   "id": "5e055b39",
   "metadata": {},
   "outputs": [
    {
     "name": "stdout",
     "output_type": "stream",
     "text": [
      "\n",
      "=== TABELA DE RELATÓRIO ===\n",
      "+--------------------+-----------+-----------+-----------+-----------+-----------+-----------+\n",
      "|                    |  2025-06  |  2025-05  |  2025-04  |  2025-03  |  2025-02  |  2025-01  |\n",
      "+====================+===========+===========+===========+===========+===========+===========+\n",
      "| Tarefa a Ser Feita |     0     |    11     |    13     |    12     |    19     |     7     |\n",
      "+--------------------+-----------+-----------+-----------+-----------+-----------+-----------+\n",
      "|   Item de Compra   |     0     |     3     |     7     |     6     |     4     |     8     |\n",
      "+--------------------+-----------+-----------+-----------+-----------+-----------+-----------+\n",
      "- Tarefas em aberto analisadas: 117\n",
      "- Tarefas abandonadas encontradas: 108\n",
      "\n",
      " Análise concluída!\n"
     ]
    }
   ],
   "source": [
    "df_pandas = pd.DataFrame(todos_registros)\n",
    "df_em_aberto = df_pandas[df_pandas['status'] == 'todo'].copy()\n",
    "count_em_aberto = len(df_em_aberto)\n",
    "\n",
    "if count_em_aberto == 0:\n",
    "    print(\"Nenhuma tarefa em aberto encontrada!\")\n",
    "    spark.stop()\n",
    "    exit()\n",
    "\n",
    "# Dias em aberto\n",
    "hoje_pd = pd.Timestamp(hoje)\n",
    "df_em_aberto['date'] = pd.to_datetime(df_em_aberto['date'])\n",
    "df_em_aberto['dias_aberto'] = (hoje_pd - df_em_aberto['date']).dt.days\n",
    "\n",
    "# Critérios de abandono\n",
    "tarefas_abandonadas_normais = df_em_aberto[\n",
    "    (df_em_aberto['taskType'] == 'Tarefa a Ser Feita') & (df_em_aberto['dias_aberto'] > 15)\n",
    "]\n",
    "itens_abandonados = df_em_aberto[\n",
    "    (df_em_aberto['taskType'] == 'Item de Compra') & (df_em_aberto['dias_aberto'] > 30)\n",
    "]\n",
    "\n",
    "df_abandonadas = pd.concat([tarefas_abandonadas_normais, itens_abandonados], ignore_index=True)\n",
    "count_abandonadas = len(df_abandonadas)\n",
    "\n",
    "# Relatório por mês\n",
    "df_abandonadas['mes_criacao'] = df_abandonadas['date'].dt.strftime('%Y-%m')\n",
    "ultimos6_meses = [(hoje.replace(day=1) - datetime.timedelta(days=30*i)).strftime(\"%Y-%m\") for i in range(6)]\n",
    "\n",
    "resultado_final = []\n",
    "for mes in ultimos6_meses:\n",
    "    tarefas_mes = df_abandonadas[df_abandonadas['mes_criacao'] == mes]\n",
    "    resultado_final.append({\n",
    "        \"mes\": mes,\n",
    "        \"Tarefa a Ser Feita\": len(tarefas_mes[tarefas_mes['taskType'] == 'Tarefa a Ser Feita']),\n",
    "        \"Item de Compra\": len(tarefas_mes[tarefas_mes['taskType'] == 'Item de Compra'])\n",
    "    })\n",
    "\n",
    "df_relatorio = pd.DataFrame(resultado_final).set_index('mes').T\n",
    "\n",
    "# Salvar\n",
    "df_relatorio.to_csv(\"../data/relatorioAbandono.csv\")\n",
    "df_relatorio.to_excel(\"../data/relatorioAbandono.xlsx\")\n",
    "\n",
    "# Exibir tabela simulada do Excel no terminal\n",
    "print(\"\\n=== TABELA DE RELATÓRIO ===\")\n",
    "tabela_formatada = tabulate(df_relatorio, headers=\"keys\", tablefmt=\"grid\", stralign=\"center\", numalign=\"center\")\n",
    "print(tabela_formatada)\n",
    "\n",
    "# Resumo\n",
    "print(f\"- Tarefas em aberto analisadas: {count_em_aberto}\")\n",
    "print(f\"- Tarefas abandonadas encontradas: {count_abandonadas}\")\n",
    "print(f\"\\n Análise concluída!\")\n",
    "\n",
    "spark.stop()\n"
   ]
  }
 ],
 "metadata": {
  "kernelspec": {
   "display_name": ".venv",
   "language": "python",
   "name": "python3"
  },
  "language_info": {
   "codemirror_mode": {
    "name": "ipython",
    "version": 3
   },
   "file_extension": ".py",
   "mimetype": "text/x-python",
   "name": "python",
   "nbconvert_exporter": "python",
   "pygments_lexer": "ipython3",
   "version": "3.13.3"
  }
 },
 "nbformat": 4,
 "nbformat_minor": 5
}
