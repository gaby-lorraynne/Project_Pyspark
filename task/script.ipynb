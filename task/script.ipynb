{
 "cells": [
  {
   "cell_type": "code",
   "execution_count": 22,
   "id": "d5af0660",
   "metadata": {},
   "outputs": [],
   "source": [
    "# Importa funções do PySpark\n",
    "import os\n",
    "import sys\n",
    "import boto3\n",
    "\n",
    "os.environ['PYSPARK_PYTHON'] = sys.executable\n",
    "os.environ['PYSPARK_DRIVER_PYTHON'] = sys.executable"
   ]
  },
  {
   "cell_type": "code",
   "execution_count": 23,
   "id": "847daf7d",
   "metadata": {},
   "outputs": [],
   "source": [
    "from pyspark.sql import SparkSession\n",
    "from pyspark.sql.functions import *\n",
    "from pyspark.sql.types import *\n",
    "from botocore.exceptions import ClientError"
   ]
  },
  {
   "cell_type": "code",
   "execution_count": 24,
   "id": "f5d05e36",
   "metadata": {},
   "outputs": [],
   "source": [
    "# Inicializa a SparkSession\n",
    "spark = SparkSession.builder.appName(\"InicializarDynamo\").getOrCreate()"
   ]
  },
  {
   "cell_type": "code",
   "execution_count": 25,
   "id": "26358e81",
   "metadata": {},
   "outputs": [],
   "source": [
    "# Lê o CSV \n",
    "df = spark.read.csv('../data/dados_importar.csv', header=True, inferSchema=True, sep=';')"
   ]
  },
  {
   "cell_type": "code",
   "execution_count": 26,
   "id": "c76fc38d",
   "metadata": {},
   "outputs": [],
   "source": [
    "# Substitui status de acorco com a descrição e remove o usuário diferente de Jeferson\n",
    "df = df.withColumn(\n",
    "    \"status\",\n",
    "    when(col(\"Status Descrição\") == \"Concluído\", \"done\")\n",
    "    .when(col(\"Status Descrição\") == \"A Fazer\", \"todo\")\n",
    "    .otherwise(None)\n",
    ")"
   ]
  },
  {
   "cell_type": "code",
   "execution_count": 27,
   "id": "0e91a945",
   "metadata": {},
   "outputs": [],
   "source": [
    "# Mantém apenas linhas com status definido (done, todo)\n",
    "df = df.filter(col(\"status\").isNotNull())"
   ]
  },
  {
   "cell_type": "code",
   "execution_count": 28,
   "id": "f5583dd2",
   "metadata": {},
   "outputs": [],
   "source": [
    "# Mantém apenas linhas onde o usuário é 'Jeferson Klau'\n",
    "df = df.filter(col(\"Usuário\") == \"Jeferson Klau\")"
   ]
  },
  {
   "cell_type": "code",
   "execution_count": 29,
   "id": "5b20d2ef",
   "metadata": {},
   "outputs": [],
   "source": [
    "# Remove a coluna \"Status Descrição\" e \"Tipo da Tarefa ID\"\n",
    "df = df.drop(\"Status Descrição\", \"Tipo da Tarefa ID\")"
   ]
  },
  {
   "cell_type": "code",
   "execution_count": 30,
   "id": "90dc28dc",
   "metadata": {},
   "outputs": [],
   "source": [
    "# Renomeia colunas e adiciona colunas \"pk\" e \"sk\"\n",
    "df = df.withColumnRenamed(\"Nome da Tarefa\", \"name\") \\\n",
    "       .withColumnRenamed(\"Tipo da Tarefa\", \"taskType\") \\\n",
    "       .withColumnRenamed(\"Data de Criação\", \"date\") \\\n",
    "       .withColumnRenamed(\"Data de Conclusão\", \"dateCompleted\") \\\n",
    "       .withColumnRenamed(\"Usuário\", \"user\") \\\n",
    "       .withColumnRenamed(\"ID do Usuário\", \"userID\") \\\n",
    "       .withColumnRenamed(\"Status\", \"status\") "
   ]
  },
  {
   "cell_type": "code",
   "execution_count": 31,
   "id": "ade0dbe2",
   "metadata": {},
   "outputs": [],
   "source": [
    "# Adicionando a coluna PK\n",
    "df = df.withColumn(\"PK\", concat(lit(\"LIST#\"), date_format(col(\"date\"), \"yyyyMMdd\")))"
   ]
  },
  {
   "cell_type": "code",
   "execution_count": 32,
   "id": "62a96f09",
   "metadata": {},
   "outputs": [],
   "source": [
    "# Cria coluna 'date' formatada\n",
    "df = df.withColumn(\"date\", date_format(col(\"date\"), \"yyyy-MM-dd\"))"
   ]
  },
  {
   "cell_type": "code",
   "execution_count": 33,
   "id": "ce0f9f25",
   "metadata": {},
   "outputs": [],
   "source": [
    "df = df.withColumn(\"dateCompleted\", date_format(col(\"dateCompleted\"), \"yyyy-MM-dd\"))"
   ]
  },
  {
   "cell_type": "code",
   "execution_count": 34,
   "id": "03923fed",
   "metadata": {},
   "outputs": [
    {
     "name": "stdout",
     "output_type": "stream",
     "text": [
      "+----------------------------------------------------------------------------+------------------+----------+-------------+------+-------------+--------------------------------+-------------+\n",
      "|name                                                                        |taskType          |date      |dateCompleted|status|user         |userID                          |PK           |\n",
      "+----------------------------------------------------------------------------+------------------+----------+-------------+------+-------------+--------------------------------+-------------+\n",
      "|Cum iure exercitationem laboriosam                                          |Tarefa a Ser Feita|2024-07-18|2025-02-12   |done  |Jeferson Klau|b4853fc1f03a3a4cec530a98a94d89ad|LIST#20240718|\n",
      "|Asperiores iusto                                                            |Tarefa a Ser Feita|2025-05-29|NULL         |todo  |Jeferson Klau|b4853fc1f03a3a4cec530a98a94d89ad|LIST#20250529|\n",
      "|Asperiores pariatur voluptatibus magnam                                     |Tarefa a Ser Feita|2023-09-12|NULL         |todo  |Jeferson Klau|b4853fc1f03a3a4cec530a98a94d89ad|LIST#20230912|\n",
      "|Comprar ipsa                                                                |Item de Compra    |2024-11-27|2025-02-08   |done  |Jeferson Klau|b4853fc1f03a3a4cec530a98a94d89ad|LIST#20241127|\n",
      "|Comprar tempore                                                             |Item de Compra    |2023-06-26|2024-06-15   |done  |Jeferson Klau|b4853fc1f03a3a4cec530a98a94d89ad|LIST#20230626|\n",
      "|Laboriosam dolor                                                            |Tarefa a Ser Feita|2023-08-27|NULL         |todo  |Jeferson Klau|b4853fc1f03a3a4cec530a98a94d89ad|LIST#20230827|\n",
      "|Blanditiis corrupti quasi                                                   |Tarefa a Ser Feita|2025-02-05|NULL         |todo  |Jeferson Klau|b4853fc1f03a3a4cec530a98a94d89ad|LIST#20250205|\n",
      "|Comprar esse                                                                |Item de Compra    |2025-02-13|2025-06-02   |done  |Jeferson Klau|b4853fc1f03a3a4cec530a98a94d89ad|LIST#20250213|\n",
      "|Sunt soluta officia quam nesciunt                                           |Tarefa a Ser Feita|2024-03-31|NULL         |todo  |Jeferson Klau|b4853fc1f03a3a4cec530a98a94d89ad|LIST#20240331|\n",
      "|Comprar ab                                                                  |Item de Compra    |2024-11-12|NULL         |todo  |Jeferson Klau|b4853fc1f03a3a4cec530a98a94d89ad|LIST#20241112|\n",
      "|Amet beatae esse                                                            |Tarefa a Ser Feita|2024-02-10|2024-02-14   |done  |Jeferson Klau|b4853fc1f03a3a4cec530a98a94d89ad|LIST#20240210|\n",
      "|Modi                                                                        |Tarefa a Ser Feita|2025-03-12|NULL         |todo  |Jeferson Klau|b4853fc1f03a3a4cec530a98a94d89ad|LIST#20250312|\n",
      "|Comprar sed                                                                 |Item de Compra    |2025-05-25|NULL         |todo  |Jeferson Klau|b4853fc1f03a3a4cec530a98a94d89ad|LIST#20250525|\n",
      "|Comprar ullam                                                               |Item de Compra    |2024-09-21|2025-01-25   |done  |Jeferson Klau|b4853fc1f03a3a4cec530a98a94d89ad|LIST#20240921|\n",
      "|Ipsa accusantium voluptate                                                  |Tarefa a Ser Feita|2024-05-19|2025-01-12   |done  |Jeferson Klau|b4853fc1f03a3a4cec530a98a94d89ad|LIST#20240519|\n",
      "|Doloremque excepturi repellendus ad iusto aut                               |Tarefa a Ser Feita|2024-07-10|2025-01-16   |done  |Jeferson Klau|b4853fc1f03a3a4cec530a98a94d89ad|LIST#20240710|\n",
      "|Ad iusto culpa                                                              |Tarefa a Ser Feita|2023-12-16|NULL         |todo  |Jeferson Klau|b4853fc1f03a3a4cec530a98a94d89ad|LIST#20231216|\n",
      "|Rerum animi ducimus vel                                                     |Tarefa a Ser Feita|2024-10-10|2024-12-13   |done  |Jeferson Klau|b4853fc1f03a3a4cec530a98a94d89ad|LIST#20241010|\n",
      "|Comprar aspernatur                                                          |Item de Compra    |2024-03-10|NULL         |todo  |Jeferson Klau|b4853fc1f03a3a4cec530a98a94d89ad|LIST#20240310|\n",
      "|Fuga quae corporis dignissimos voluptas dolorem ipsa                        |Tarefa a Ser Feita|2024-07-08|NULL         |todo  |Jeferson Klau|b4853fc1f03a3a4cec530a98a94d89ad|LIST#20240708|\n",
      "|Facilis illo quibusdam                                                      |Tarefa a Ser Feita|2024-02-17|2024-05-26   |done  |Jeferson Klau|b4853fc1f03a3a4cec530a98a94d89ad|LIST#20240217|\n",
      "|Minus quisquam quae                                                         |Tarefa a Ser Feita|2024-12-07|2025-06-02   |done  |Jeferson Klau|b4853fc1f03a3a4cec530a98a94d89ad|LIST#20241207|\n",
      "|Delectus cum aut rem earum                                                  |Tarefa a Ser Feita|2023-12-31|2024-06-10   |done  |Jeferson Klau|b4853fc1f03a3a4cec530a98a94d89ad|LIST#20231231|\n",
      "|Nobis fugit earum enim quo ipsa                                             |Tarefa a Ser Feita|2025-05-09|NULL         |todo  |Jeferson Klau|b4853fc1f03a3a4cec530a98a94d89ad|LIST#20250509|\n",
      "|Atque nostrum eveniet aperiam                                               |Tarefa a Ser Feita|2023-12-07|2024-04-17   |done  |Jeferson Klau|b4853fc1f03a3a4cec530a98a94d89ad|LIST#20231207|\n",
      "|Natus cum voluptas accusamus assumenda magni                                |Tarefa a Ser Feita|2024-10-18|2024-12-31   |done  |Jeferson Klau|b4853fc1f03a3a4cec530a98a94d89ad|LIST#20241018|\n",
      "|Dolore harum quos omnis maxime facilis                                      |Tarefa a Ser Feita|2023-10-15|NULL         |todo  |Jeferson Klau|b4853fc1f03a3a4cec530a98a94d89ad|LIST#20231015|\n",
      "|Fuga ipsam autem alias commodi                                              |Tarefa a Ser Feita|2024-06-03|NULL         |todo  |Jeferson Klau|b4853fc1f03a3a4cec530a98a94d89ad|LIST#20240603|\n",
      "|Facilis non                                                                 |Tarefa a Ser Feita|2024-04-13|2025-03-03   |done  |Jeferson Klau|b4853fc1f03a3a4cec530a98a94d89ad|LIST#20240413|\n",
      "|Quis voluptatem                                                             |Tarefa a Ser Feita|2024-11-26|NULL         |todo  |Jeferson Klau|b4853fc1f03a3a4cec530a98a94d89ad|LIST#20241126|\n",
      "|Sunt beatae                                                                 |Tarefa a Ser Feita|2023-06-19|2024-01-30   |done  |Jeferson Klau|b4853fc1f03a3a4cec530a98a94d89ad|LIST#20230619|\n",
      "|Comprar voluptatum                                                          |Item de Compra    |2024-07-25|2025-04-13   |done  |Jeferson Klau|b4853fc1f03a3a4cec530a98a94d89ad|LIST#20240725|\n",
      "|Ipsum doloremque officiis ipsa assumenda sint                               |Tarefa a Ser Feita|2025-03-22|2025-06-02   |done  |Jeferson Klau|b4853fc1f03a3a4cec530a98a94d89ad|LIST#20250322|\n",
      "|Beatae architecto nam                                                       |Tarefa a Ser Feita|2024-10-05|NULL         |todo  |Jeferson Klau|b4853fc1f03a3a4cec530a98a94d89ad|LIST#20241005|\n",
      "|Nihil ullam mollitia nobis atque                                            |Tarefa a Ser Feita|2024-10-24|2025-06-02   |done  |Jeferson Klau|b4853fc1f03a3a4cec530a98a94d89ad|LIST#20241024|\n",
      "|Comprar occaecati                                                           |Item de Compra    |2023-09-21|2024-02-11   |done  |Jeferson Klau|b4853fc1f03a3a4cec530a98a94d89ad|LIST#20230921|\n",
      "|Pariatur saepe temporibus mollitia qui inventore omnis                      |Tarefa a Ser Feita|2024-02-11|2024-10-23   |done  |Jeferson Klau|b4853fc1f03a3a4cec530a98a94d89ad|LIST#20240211|\n",
      "|Comprar magnam                                                              |Item de Compra    |2023-06-24|2023-09-03   |done  |Jeferson Klau|b4853fc1f03a3a4cec530a98a94d89ad|LIST#20230624|\n",
      "|Quaerat repellendus dolorem corporis                                        |Tarefa a Ser Feita|2024-06-24|2024-07-31   |done  |Jeferson Klau|b4853fc1f03a3a4cec530a98a94d89ad|LIST#20240624|\n",
      "|Voluptas fuga sequi impedit eaque iure dolor neque                          |Tarefa a Ser Feita|2023-06-05|2023-11-22   |done  |Jeferson Klau|b4853fc1f03a3a4cec530a98a94d89ad|LIST#20230605|\n",
      "|Comprar beatae                                                              |Item de Compra    |2024-04-20|NULL         |todo  |Jeferson Klau|b4853fc1f03a3a4cec530a98a94d89ad|LIST#20240420|\n",
      "|Earum sint quisquam vero labore nostrum                                     |Tarefa a Ser Feita|2024-09-13|2025-06-02   |done  |Jeferson Klau|b4853fc1f03a3a4cec530a98a94d89ad|LIST#20240913|\n",
      "|Repellendus in a quisquam quod ad architecto ipsam                          |Tarefa a Ser Feita|2024-12-04|NULL         |todo  |Jeferson Klau|b4853fc1f03a3a4cec530a98a94d89ad|LIST#20241204|\n",
      "|Ut ut animi dolorem                                                         |Tarefa a Ser Feita|2024-11-02|NULL         |todo  |Jeferson Klau|b4853fc1f03a3a4cec530a98a94d89ad|LIST#20241102|\n",
      "|Possimus                                                                    |Tarefa a Ser Feita|2025-04-17|NULL         |todo  |Jeferson Klau|b4853fc1f03a3a4cec530a98a94d89ad|LIST#20250417|\n",
      "|Quae atque quia                                                             |Tarefa a Ser Feita|2024-11-06|NULL         |todo  |Jeferson Klau|b4853fc1f03a3a4cec530a98a94d89ad|LIST#20241106|\n",
      "|Cupiditate ducimus tempora tempore                                          |Tarefa a Ser Feita|2023-07-11|2023-11-23   |done  |Jeferson Klau|b4853fc1f03a3a4cec530a98a94d89ad|LIST#20230711|\n",
      "|Molestias autem repellendus officia                                         |Tarefa a Ser Feita|2023-10-11|2023-12-19   |done  |Jeferson Klau|b4853fc1f03a3a4cec530a98a94d89ad|LIST#20231011|\n",
      "|Aut perspiciatis                                                            |Tarefa a Ser Feita|2023-09-29|2023-12-27   |done  |Jeferson Klau|b4853fc1f03a3a4cec530a98a94d89ad|LIST#20230929|\n",
      "|Commodi nobis doloremque                                                    |Tarefa a Ser Feita|2023-09-12|2024-06-14   |done  |Jeferson Klau|b4853fc1f03a3a4cec530a98a94d89ad|LIST#20230912|\n",
      "|Alias deserunt esse                                                         |Tarefa a Ser Feita|2023-12-23|2024-01-30   |done  |Jeferson Klau|b4853fc1f03a3a4cec530a98a94d89ad|LIST#20231223|\n",
      "|Comprar illo                                                                |Item de Compra    |2024-02-04|2024-05-16   |done  |Jeferson Klau|b4853fc1f03a3a4cec530a98a94d89ad|LIST#20240204|\n",
      "|Sunt quia quasi error dolores eaque                                         |Tarefa a Ser Feita|2023-07-29|2024-07-25   |done  |Jeferson Klau|b4853fc1f03a3a4cec530a98a94d89ad|LIST#20230729|\n",
      "|Explicabo quis                                                              |Tarefa a Ser Feita|2024-05-15|NULL         |todo  |Jeferson Klau|b4853fc1f03a3a4cec530a98a94d89ad|LIST#20240515|\n",
      "|Repellendus eos                                                             |Tarefa a Ser Feita|2023-11-24|2023-12-14   |done  |Jeferson Klau|b4853fc1f03a3a4cec530a98a94d89ad|LIST#20231124|\n",
      "|Commodi aliquam                                                             |Tarefa a Ser Feita|2023-07-30|NULL         |todo  |Jeferson Klau|b4853fc1f03a3a4cec530a98a94d89ad|LIST#20230730|\n",
      "|Comprar adipisci                                                            |Item de Compra    |2024-08-21|NULL         |todo  |Jeferson Klau|b4853fc1f03a3a4cec530a98a94d89ad|LIST#20240821|\n",
      "|Quas quibusdam aut temporibus similique quisquam laboriosam                 |Tarefa a Ser Feita|2024-05-20|2025-01-29   |done  |Jeferson Klau|b4853fc1f03a3a4cec530a98a94d89ad|LIST#20240520|\n",
      "|Comprar expedita                                                            |Item de Compra    |2024-06-22|2024-07-09   |done  |Jeferson Klau|b4853fc1f03a3a4cec530a98a94d89ad|LIST#20240622|\n",
      "|Comprar cumque                                                              |Item de Compra    |2024-02-29|2024-08-11   |done  |Jeferson Klau|b4853fc1f03a3a4cec530a98a94d89ad|LIST#20240229|\n",
      "|Perspiciatis temporibus                                                     |Tarefa a Ser Feita|2024-11-13|NULL         |todo  |Jeferson Klau|b4853fc1f03a3a4cec530a98a94d89ad|LIST#20241113|\n",
      "|Beatae totam molestias                                                      |Tarefa a Ser Feita|2024-12-07|2025-06-02   |done  |Jeferson Klau|b4853fc1f03a3a4cec530a98a94d89ad|LIST#20241207|\n",
      "|Cum quibusdam quae                                                          |Tarefa a Ser Feita|2024-11-16|NULL         |todo  |Jeferson Klau|b4853fc1f03a3a4cec530a98a94d89ad|LIST#20241116|\n",
      "|Comprar blanditiis                                                          |Item de Compra    |2024-10-05|2025-02-01   |done  |Jeferson Klau|b4853fc1f03a3a4cec530a98a94d89ad|LIST#20241005|\n",
      "|Cupiditate quaerat alias                                                    |Tarefa a Ser Feita|2025-02-07|NULL         |todo  |Jeferson Klau|b4853fc1f03a3a4cec530a98a94d89ad|LIST#20250207|\n",
      "|Comprar adipisci                                                            |Item de Compra    |2024-12-22|NULL         |todo  |Jeferson Klau|b4853fc1f03a3a4cec530a98a94d89ad|LIST#20241222|\n",
      "|Aut error magnam provident illum                                            |Tarefa a Ser Feita|2025-03-28|2025-05-28   |done  |Jeferson Klau|b4853fc1f03a3a4cec530a98a94d89ad|LIST#20250328|\n",
      "|Comprar id                                                                  |Item de Compra    |2024-10-31|NULL         |todo  |Jeferson Klau|b4853fc1f03a3a4cec530a98a94d89ad|LIST#20241031|\n",
      "|Dicta quisquam                                                              |Tarefa a Ser Feita|2023-10-09|2024-02-14   |done  |Jeferson Klau|b4853fc1f03a3a4cec530a98a94d89ad|LIST#20231009|\n",
      "|Incidunt eveniet doloremque voluptatem autem                                |Tarefa a Ser Feita|2024-05-20|2024-07-25   |done  |Jeferson Klau|b4853fc1f03a3a4cec530a98a94d89ad|LIST#20240520|\n",
      "|Comprar magnam                                                              |Item de Compra    |2025-05-06|2025-06-02   |done  |Jeferson Klau|b4853fc1f03a3a4cec530a98a94d89ad|LIST#20250506|\n",
      "|Nihil earum voluptates                                                      |Tarefa a Ser Feita|2025-01-18|NULL         |todo  |Jeferson Klau|b4853fc1f03a3a4cec530a98a94d89ad|LIST#20250118|\n",
      "|Reiciendis voluptatibus voluptatibus nesciunt dignissimos placeat reiciendis|Tarefa a Ser Feita|2024-04-05|NULL         |todo  |Jeferson Klau|b4853fc1f03a3a4cec530a98a94d89ad|LIST#20240405|\n",
      "|Illum quidem eaque quo optio cum explicabo                                  |Tarefa a Ser Feita|2023-06-16|2024-01-22   |done  |Jeferson Klau|b4853fc1f03a3a4cec530a98a94d89ad|LIST#20230616|\n",
      "|Quasi omnis repudiandae ea omnis mollitia fugit iusto                       |Tarefa a Ser Feita|2024-02-06|2024-10-04   |done  |Jeferson Klau|b4853fc1f03a3a4cec530a98a94d89ad|LIST#20240206|\n",
      "|Earum tempore exercitationem corrupti accusamus                             |Tarefa a Ser Feita|2023-10-06|NULL         |todo  |Jeferson Klau|b4853fc1f03a3a4cec530a98a94d89ad|LIST#20231006|\n",
      "|Comprar neque                                                               |Item de Compra    |2024-06-04|2024-08-22   |done  |Jeferson Klau|b4853fc1f03a3a4cec530a98a94d89ad|LIST#20240604|\n",
      "|Comprar soluta                                                              |Item de Compra    |2024-02-03|2024-02-12   |done  |Jeferson Klau|b4853fc1f03a3a4cec530a98a94d89ad|LIST#20240203|\n",
      "|Expedita dolor harum dicta laudantium pariatur                              |Tarefa a Ser Feita|2024-01-03|NULL         |todo  |Jeferson Klau|b4853fc1f03a3a4cec530a98a94d89ad|LIST#20240103|\n",
      "|Tenetur dolore fuga repellendus exercitationem eius repudiandae             |Tarefa a Ser Feita|2023-08-04|NULL         |todo  |Jeferson Klau|b4853fc1f03a3a4cec530a98a94d89ad|LIST#20230804|\n",
      "|Modi maxime eligendi explicabo nemo iste perspiciatis                       |Tarefa a Ser Feita|2023-08-23|2023-09-23   |done  |Jeferson Klau|b4853fc1f03a3a4cec530a98a94d89ad|LIST#20230823|\n",
      "|Ad nesciunt                                                                 |Tarefa a Ser Feita|2024-11-22|NULL         |todo  |Jeferson Klau|b4853fc1f03a3a4cec530a98a94d89ad|LIST#20241122|\n",
      "|Sapiente veritatis praesentium                                              |Tarefa a Ser Feita|2023-07-21|2023-09-22   |done  |Jeferson Klau|b4853fc1f03a3a4cec530a98a94d89ad|LIST#20230721|\n",
      "|Quaerat excepturi molestiae quis dolores blanditiis                         |Tarefa a Ser Feita|2024-03-24|NULL         |todo  |Jeferson Klau|b4853fc1f03a3a4cec530a98a94d89ad|LIST#20240324|\n",
      "|Laborum iusto esse sequi odit                                               |Tarefa a Ser Feita|2025-04-28|2025-06-02   |done  |Jeferson Klau|b4853fc1f03a3a4cec530a98a94d89ad|LIST#20250428|\n",
      "|Aliquam animi illum                                                         |Tarefa a Ser Feita|2023-09-10|2023-11-09   |done  |Jeferson Klau|b4853fc1f03a3a4cec530a98a94d89ad|LIST#20230910|\n",
      "|Sit sapiente quis explicabo                                                 |Tarefa a Ser Feita|2024-01-19|2024-11-19   |done  |Jeferson Klau|b4853fc1f03a3a4cec530a98a94d89ad|LIST#20240119|\n",
      "|Iusto cumque quae magni provident                                           |Tarefa a Ser Feita|2024-10-25|2025-05-04   |done  |Jeferson Klau|b4853fc1f03a3a4cec530a98a94d89ad|LIST#20241025|\n",
      "|Illum autem hic                                                             |Tarefa a Ser Feita|2024-02-04|NULL         |todo  |Jeferson Klau|b4853fc1f03a3a4cec530a98a94d89ad|LIST#20240204|\n",
      "|Asperiores corporis blanditiis odit similique iste illo odit eos            |Tarefa a Ser Feita|2024-09-27|2024-12-07   |done  |Jeferson Klau|b4853fc1f03a3a4cec530a98a94d89ad|LIST#20240927|\n",
      "|Consequatur eveniet sapiente iste iure voluptas                             |Tarefa a Ser Feita|2023-07-20|2023-11-12   |done  |Jeferson Klau|b4853fc1f03a3a4cec530a98a94d89ad|LIST#20230720|\n",
      "|Earum cum vitae magnam voluptatem                                           |Tarefa a Ser Feita|2024-05-31|NULL         |todo  |Jeferson Klau|b4853fc1f03a3a4cec530a98a94d89ad|LIST#20240531|\n",
      "|Quibusdam dolore nobis voluptatibus                                         |Tarefa a Ser Feita|2024-10-13|2025-05-30   |done  |Jeferson Klau|b4853fc1f03a3a4cec530a98a94d89ad|LIST#20241013|\n",
      "|Unde voluptate placeat ea nobis vero                                        |Tarefa a Ser Feita|2025-03-22|2025-06-02   |done  |Jeferson Klau|b4853fc1f03a3a4cec530a98a94d89ad|LIST#20250322|\n",
      "|Rem nesciunt est odit doloribus commodi quas excepturi voluptatem           |Tarefa a Ser Feita|2023-09-12|NULL         |todo  |Jeferson Klau|b4853fc1f03a3a4cec530a98a94d89ad|LIST#20230912|\n",
      "|Laboriosam excepturi cum magnam quisquam                                    |Tarefa a Ser Feita|2024-12-06|2025-06-02   |done  |Jeferson Klau|b4853fc1f03a3a4cec530a98a94d89ad|LIST#20241206|\n",
      "|Mollitia deserunt minima molestiae veritatis quae ab accusantium            |Tarefa a Ser Feita|2025-01-25|2025-06-02   |done  |Jeferson Klau|b4853fc1f03a3a4cec530a98a94d89ad|LIST#20250125|\n",
      "|Nesciunt quas praesentium neque vel ut odio                                 |Tarefa a Ser Feita|2025-03-09|2025-06-02   |done  |Jeferson Klau|b4853fc1f03a3a4cec530a98a94d89ad|LIST#20250309|\n",
      "|Ut laboriosam aperiam necessitatibus                                        |Tarefa a Ser Feita|2023-09-21|2023-12-13   |done  |Jeferson Klau|b4853fc1f03a3a4cec530a98a94d89ad|LIST#20230921|\n",
      "|Officiis maxime assumenda natus                                             |Tarefa a Ser Feita|2023-12-26|2024-11-13   |done  |Jeferson Klau|b4853fc1f03a3a4cec530a98a94d89ad|LIST#20231226|\n",
      "+----------------------------------------------------------------------------+------------------+----------+-------------+------+-------------+--------------------------------+-------------+\n",
      "only showing top 100 rows\n"
     ]
    }
   ],
   "source": [
    "# Visualiza os dados\n",
    "df.show(100, truncate=False)"
   ]
  },
  {
   "cell_type": "code",
   "execution_count": 35,
   "id": "3fd368be",
   "metadata": {},
   "outputs": [],
   "source": [
    "df = df.withColumn(\"row_id\", monotonically_increasing_id())"
   ]
  },
  {
   "cell_type": "code",
   "execution_count": 36,
   "id": "e3b09ffc",
   "metadata": {},
   "outputs": [],
   "source": [
    "df = df.withColumn(\"itemId\", sha2(col(\"row_id\").cast(\"string\"), 256))"
   ]
  },
  {
   "cell_type": "code",
   "execution_count": 37,
   "id": "61fa76a5",
   "metadata": {},
   "outputs": [],
   "source": [
    "df = df.withColumn(\"SK\", concat(lit(\"ITEM#\"), col(\"itemId\")))"
   ]
  },
  {
   "cell_type": "code",
   "execution_count": 38,
   "id": "092fc626",
   "metadata": {},
   "outputs": [],
   "source": [
    "df = df.drop(\"row_id\")"
   ]
  },
  {
   "cell_type": "code",
   "execution_count": 39,
   "id": "bb947814",
   "metadata": {},
   "outputs": [],
   "source": [
    "from dotenv import load_dotenv\n",
    "load_dotenv()\n",
    "userId = os.getenv(\"USER_ID\")\n",
    "df = df.withColumn(\"userID\", lit(userId))"
   ]
  },
  {
   "cell_type": "code",
   "execution_count": 40,
   "id": "58a39ba9",
   "metadata": {},
   "outputs": [],
   "source": [
    "df_final = df.select(\n",
    "    \"PK\", \"SK\", \"date\", \"itemId\", \"name\", \"status\",\n",
    "    \"dateCompleted\", \"taskType\", \"user\", \"userID\"\n",
    ")"
   ]
  },
  {
   "cell_type": "code",
   "execution_count": 41,
   "id": "79280509",
   "metadata": {},
   "outputs": [
    {
     "name": "stdout",
     "output_type": "stream",
     "text": [
      "+-------------+---------------------------------------------------------------------+----------+----------------------------------------------------------------+----------------------------------------------------------------------------+------+-------------+------------------+-------------+------------------------------------+\n",
      "|PK           |SK                                                                   |date      |itemId                                                          |name                                                                        |status|dateCompleted|taskType          |user         |userID                              |\n",
      "+-------------+---------------------------------------------------------------------+----------+----------------------------------------------------------------+----------------------------------------------------------------------------+------+-------------+------------------+-------------+------------------------------------+\n",
      "|LIST#20240718|ITEM#5feceb66ffc86f38d952786c6d696c79c2dbc239dd4e91b46729d73a27fb57e9|2024-07-18|5feceb66ffc86f38d952786c6d696c79c2dbc239dd4e91b46729d73a27fb57e9|Cum iure exercitationem laboriosam                                          |done  |2025-02-12   |Tarefa a Ser Feita|Jeferson Klau|530c4a2a-d0a1-70e0-b58c-c2ecf8b8052b|\n",
      "|LIST#20250529|ITEM#6b86b273ff34fce19d6b804eff5a3f5747ada4eaa22f1d49c01e52ddb7875b4b|2025-05-29|6b86b273ff34fce19d6b804eff5a3f5747ada4eaa22f1d49c01e52ddb7875b4b|Asperiores iusto                                                            |todo  |NULL         |Tarefa a Ser Feita|Jeferson Klau|530c4a2a-d0a1-70e0-b58c-c2ecf8b8052b|\n",
      "|LIST#20230912|ITEM#d4735e3a265e16eee03f59718b9b5d03019c07d8b6c51f90da3a666eec13ab35|2023-09-12|d4735e3a265e16eee03f59718b9b5d03019c07d8b6c51f90da3a666eec13ab35|Asperiores pariatur voluptatibus magnam                                     |todo  |NULL         |Tarefa a Ser Feita|Jeferson Klau|530c4a2a-d0a1-70e0-b58c-c2ecf8b8052b|\n",
      "|LIST#20241127|ITEM#4e07408562bedb8b60ce05c1decfe3ad16b72230967de01f640b7e4729b49fce|2024-11-27|4e07408562bedb8b60ce05c1decfe3ad16b72230967de01f640b7e4729b49fce|Comprar ipsa                                                                |done  |2025-02-08   |Item de Compra    |Jeferson Klau|530c4a2a-d0a1-70e0-b58c-c2ecf8b8052b|\n",
      "|LIST#20230626|ITEM#4b227777d4dd1fc61c6f884f48641d02b4d121d3fd328cb08b5531fcacdabf8a|2023-06-26|4b227777d4dd1fc61c6f884f48641d02b4d121d3fd328cb08b5531fcacdabf8a|Comprar tempore                                                             |done  |2024-06-15   |Item de Compra    |Jeferson Klau|530c4a2a-d0a1-70e0-b58c-c2ecf8b8052b|\n",
      "|LIST#20230827|ITEM#ef2d127de37b942baad06145e54b0c619a1f22327b2ebbcfbec78f5564afe39d|2023-08-27|ef2d127de37b942baad06145e54b0c619a1f22327b2ebbcfbec78f5564afe39d|Laboriosam dolor                                                            |todo  |NULL         |Tarefa a Ser Feita|Jeferson Klau|530c4a2a-d0a1-70e0-b58c-c2ecf8b8052b|\n",
      "|LIST#20250205|ITEM#e7f6c011776e8db7cd330b54174fd76f7d0216b612387a5ffcfb81e6f0919683|2025-02-05|e7f6c011776e8db7cd330b54174fd76f7d0216b612387a5ffcfb81e6f0919683|Blanditiis corrupti quasi                                                   |todo  |NULL         |Tarefa a Ser Feita|Jeferson Klau|530c4a2a-d0a1-70e0-b58c-c2ecf8b8052b|\n",
      "|LIST#20250213|ITEM#7902699be42c8a8e46fbbb4501726517e86b22c56a189f7625a6da49081b2451|2025-02-13|7902699be42c8a8e46fbbb4501726517e86b22c56a189f7625a6da49081b2451|Comprar esse                                                                |done  |2025-06-02   |Item de Compra    |Jeferson Klau|530c4a2a-d0a1-70e0-b58c-c2ecf8b8052b|\n",
      "|LIST#20240331|ITEM#2c624232cdd221771294dfbb310aca000a0df6ac8b66b696d90ef06fdefb64a3|2024-03-31|2c624232cdd221771294dfbb310aca000a0df6ac8b66b696d90ef06fdefb64a3|Sunt soluta officia quam nesciunt                                           |todo  |NULL         |Tarefa a Ser Feita|Jeferson Klau|530c4a2a-d0a1-70e0-b58c-c2ecf8b8052b|\n",
      "|LIST#20241112|ITEM#19581e27de7ced00ff1ce50b2047e7a567c76b1cbaebabe5ef03f7c3017bb5b7|2024-11-12|19581e27de7ced00ff1ce50b2047e7a567c76b1cbaebabe5ef03f7c3017bb5b7|Comprar ab                                                                  |todo  |NULL         |Item de Compra    |Jeferson Klau|530c4a2a-d0a1-70e0-b58c-c2ecf8b8052b|\n",
      "|LIST#20240210|ITEM#4a44dc15364204a80fe80e9039455cc1608281820fe2b24f1e5233ade6af1dd5|2024-02-10|4a44dc15364204a80fe80e9039455cc1608281820fe2b24f1e5233ade6af1dd5|Amet beatae esse                                                            |done  |2024-02-14   |Tarefa a Ser Feita|Jeferson Klau|530c4a2a-d0a1-70e0-b58c-c2ecf8b8052b|\n",
      "|LIST#20250312|ITEM#4fc82b26aecb47d2868c4efbe3581732a3e7cbcc6c2efb32062c08170a05eeb8|2025-03-12|4fc82b26aecb47d2868c4efbe3581732a3e7cbcc6c2efb32062c08170a05eeb8|Modi                                                                        |todo  |NULL         |Tarefa a Ser Feita|Jeferson Klau|530c4a2a-d0a1-70e0-b58c-c2ecf8b8052b|\n",
      "|LIST#20250525|ITEM#6b51d431df5d7f141cbececcf79edf3dd861c3b4069f0b11661a3eefacbba918|2025-05-25|6b51d431df5d7f141cbececcf79edf3dd861c3b4069f0b11661a3eefacbba918|Comprar sed                                                                 |todo  |NULL         |Item de Compra    |Jeferson Klau|530c4a2a-d0a1-70e0-b58c-c2ecf8b8052b|\n",
      "|LIST#20240921|ITEM#3fdba35f04dc8c462986c992bcf875546257113072a909c162f7e470e581e278|2024-09-21|3fdba35f04dc8c462986c992bcf875546257113072a909c162f7e470e581e278|Comprar ullam                                                               |done  |2025-01-25   |Item de Compra    |Jeferson Klau|530c4a2a-d0a1-70e0-b58c-c2ecf8b8052b|\n",
      "|LIST#20240519|ITEM#8527a891e224136950ff32ca212b45bc93f69fbb801c3b1ebedac52775f99e61|2024-05-19|8527a891e224136950ff32ca212b45bc93f69fbb801c3b1ebedac52775f99e61|Ipsa accusantium voluptate                                                  |done  |2025-01-12   |Tarefa a Ser Feita|Jeferson Klau|530c4a2a-d0a1-70e0-b58c-c2ecf8b8052b|\n",
      "|LIST#20240710|ITEM#e629fa6598d732768f7c726b4b621285f9c3b85303900aa912017db7617d8bdb|2024-07-10|e629fa6598d732768f7c726b4b621285f9c3b85303900aa912017db7617d8bdb|Doloremque excepturi repellendus ad iusto aut                               |done  |2025-01-16   |Tarefa a Ser Feita|Jeferson Klau|530c4a2a-d0a1-70e0-b58c-c2ecf8b8052b|\n",
      "|LIST#20231216|ITEM#b17ef6d19c7a5b1ee83b907c595526dcb1eb06db8227d650d5dda0a9f4ce8cd9|2023-12-16|b17ef6d19c7a5b1ee83b907c595526dcb1eb06db8227d650d5dda0a9f4ce8cd9|Ad iusto culpa                                                              |todo  |NULL         |Tarefa a Ser Feita|Jeferson Klau|530c4a2a-d0a1-70e0-b58c-c2ecf8b8052b|\n",
      "|LIST#20241010|ITEM#4523540f1504cd17100c4835e85b7eefd49911580f8efff0599a8f283be6b9e3|2024-10-10|4523540f1504cd17100c4835e85b7eefd49911580f8efff0599a8f283be6b9e3|Rerum animi ducimus vel                                                     |done  |2024-12-13   |Tarefa a Ser Feita|Jeferson Klau|530c4a2a-d0a1-70e0-b58c-c2ecf8b8052b|\n",
      "|LIST#20240310|ITEM#4ec9599fc203d176a301536c2e091a19bc852759b255bd6818810a42c5fed14a|2024-03-10|4ec9599fc203d176a301536c2e091a19bc852759b255bd6818810a42c5fed14a|Comprar aspernatur                                                          |todo  |NULL         |Item de Compra    |Jeferson Klau|530c4a2a-d0a1-70e0-b58c-c2ecf8b8052b|\n",
      "|LIST#20240708|ITEM#9400f1b21cb527d7fa3d3eabba93557a18ebe7a2ca4e471cfe5e4c5b4ca7f767|2024-07-08|9400f1b21cb527d7fa3d3eabba93557a18ebe7a2ca4e471cfe5e4c5b4ca7f767|Fuga quae corporis dignissimos voluptas dolorem ipsa                        |todo  |NULL         |Tarefa a Ser Feita|Jeferson Klau|530c4a2a-d0a1-70e0-b58c-c2ecf8b8052b|\n",
      "|LIST#20240217|ITEM#f5ca38f748a1d6eaf726b8a42fb575c3c71f1864a8143301782de13da2d9202b|2024-02-17|f5ca38f748a1d6eaf726b8a42fb575c3c71f1864a8143301782de13da2d9202b|Facilis illo quibusdam                                                      |done  |2024-05-26   |Tarefa a Ser Feita|Jeferson Klau|530c4a2a-d0a1-70e0-b58c-c2ecf8b8052b|\n",
      "|LIST#20241207|ITEM#6f4b6612125fb3a0daecd2799dfd6c9c299424fd920f9b308110a2c1fbd8f443|2024-12-07|6f4b6612125fb3a0daecd2799dfd6c9c299424fd920f9b308110a2c1fbd8f443|Minus quisquam quae                                                         |done  |2025-06-02   |Tarefa a Ser Feita|Jeferson Klau|530c4a2a-d0a1-70e0-b58c-c2ecf8b8052b|\n",
      "|LIST#20231231|ITEM#785f3ec7eb32f30b90cd0fcf3657d388b5ff4297f2f9716ff66e9b69c05ddd09|2023-12-31|785f3ec7eb32f30b90cd0fcf3657d388b5ff4297f2f9716ff66e9b69c05ddd09|Delectus cum aut rem earum                                                  |done  |2024-06-10   |Tarefa a Ser Feita|Jeferson Klau|530c4a2a-d0a1-70e0-b58c-c2ecf8b8052b|\n",
      "|LIST#20250509|ITEM#535fa30d7e25dd8a49f1536779734ec8286108d115da5045d77f3b4185d8f790|2025-05-09|535fa30d7e25dd8a49f1536779734ec8286108d115da5045d77f3b4185d8f790|Nobis fugit earum enim quo ipsa                                             |todo  |NULL         |Tarefa a Ser Feita|Jeferson Klau|530c4a2a-d0a1-70e0-b58c-c2ecf8b8052b|\n",
      "|LIST#20231207|ITEM#c2356069e9d1e79ca924378153cfbbfb4d4416b1f99d41a2940bfdb66c5319db|2023-12-07|c2356069e9d1e79ca924378153cfbbfb4d4416b1f99d41a2940bfdb66c5319db|Atque nostrum eveniet aperiam                                               |done  |2024-04-17   |Tarefa a Ser Feita|Jeferson Klau|530c4a2a-d0a1-70e0-b58c-c2ecf8b8052b|\n",
      "|LIST#20241018|ITEM#b7a56873cd771f2c446d369b649430b65a756ba278ff97ec81bb6f55b2e73569|2024-10-18|b7a56873cd771f2c446d369b649430b65a756ba278ff97ec81bb6f55b2e73569|Natus cum voluptas accusamus assumenda magni                                |done  |2024-12-31   |Tarefa a Ser Feita|Jeferson Klau|530c4a2a-d0a1-70e0-b58c-c2ecf8b8052b|\n",
      "|LIST#20231015|ITEM#5f9c4ab08cac7457e9111a30e4664920607ea2c115a1433d7be98e97e64244ca|2023-10-15|5f9c4ab08cac7457e9111a30e4664920607ea2c115a1433d7be98e97e64244ca|Dolore harum quos omnis maxime facilis                                      |todo  |NULL         |Tarefa a Ser Feita|Jeferson Klau|530c4a2a-d0a1-70e0-b58c-c2ecf8b8052b|\n",
      "|LIST#20240603|ITEM#670671cd97404156226e507973f2ab8330d3022ca96e0c93bdbdb320c41adcaf|2024-06-03|670671cd97404156226e507973f2ab8330d3022ca96e0c93bdbdb320c41adcaf|Fuga ipsam autem alias commodi                                              |todo  |NULL         |Tarefa a Ser Feita|Jeferson Klau|530c4a2a-d0a1-70e0-b58c-c2ecf8b8052b|\n",
      "|LIST#20240413|ITEM#59e19706d51d39f66711c2653cd7eb1291c94d9b55eb14bda74ce4dc636d015a|2024-04-13|59e19706d51d39f66711c2653cd7eb1291c94d9b55eb14bda74ce4dc636d015a|Facilis non                                                                 |done  |2025-03-03   |Tarefa a Ser Feita|Jeferson Klau|530c4a2a-d0a1-70e0-b58c-c2ecf8b8052b|\n",
      "|LIST#20241126|ITEM#35135aaa6cc23891b40cb3f378c53a17a1127210ce60e125ccf03efcfdaec458|2024-11-26|35135aaa6cc23891b40cb3f378c53a17a1127210ce60e125ccf03efcfdaec458|Quis voluptatem                                                             |todo  |NULL         |Tarefa a Ser Feita|Jeferson Klau|530c4a2a-d0a1-70e0-b58c-c2ecf8b8052b|\n",
      "|LIST#20230619|ITEM#624b60c58c9d8bfb6ff1886c2fd605d2adeb6ea4da576068201b6c6958ce93f4|2023-06-19|624b60c58c9d8bfb6ff1886c2fd605d2adeb6ea4da576068201b6c6958ce93f4|Sunt beatae                                                                 |done  |2024-01-30   |Tarefa a Ser Feita|Jeferson Klau|530c4a2a-d0a1-70e0-b58c-c2ecf8b8052b|\n",
      "|LIST#20240725|ITEM#eb1e33e8a81b697b75855af6bfcdbcbf7cbbde9f94962ceaec1ed8af21f5a50f|2024-07-25|eb1e33e8a81b697b75855af6bfcdbcbf7cbbde9f94962ceaec1ed8af21f5a50f|Comprar voluptatum                                                          |done  |2025-04-13   |Item de Compra    |Jeferson Klau|530c4a2a-d0a1-70e0-b58c-c2ecf8b8052b|\n",
      "|LIST#20250322|ITEM#e29c9c180c6279b0b02abd6a1801c7c04082cf486ec027aa13515e4f3884bb6b|2025-03-22|e29c9c180c6279b0b02abd6a1801c7c04082cf486ec027aa13515e4f3884bb6b|Ipsum doloremque officiis ipsa assumenda sint                               |done  |2025-06-02   |Tarefa a Ser Feita|Jeferson Klau|530c4a2a-d0a1-70e0-b58c-c2ecf8b8052b|\n",
      "|LIST#20241005|ITEM#c6f3ac57944a531490cd39902d0f777715fd005efac9a30622d5f5205e7f6894|2024-10-05|c6f3ac57944a531490cd39902d0f777715fd005efac9a30622d5f5205e7f6894|Beatae architecto nam                                                       |todo  |NULL         |Tarefa a Ser Feita|Jeferson Klau|530c4a2a-d0a1-70e0-b58c-c2ecf8b8052b|\n",
      "|LIST#20241024|ITEM#86e50149658661312a9e0b35558d84f6c6d3da797f552a9657fe0558ca40cdef|2024-10-24|86e50149658661312a9e0b35558d84f6c6d3da797f552a9657fe0558ca40cdef|Nihil ullam mollitia nobis atque                                            |done  |2025-06-02   |Tarefa a Ser Feita|Jeferson Klau|530c4a2a-d0a1-70e0-b58c-c2ecf8b8052b|\n",
      "|LIST#20230921|ITEM#9f14025af0065b30e47e23ebb3b491d39ae8ed17d33739e5ff3827ffb3634953|2023-09-21|9f14025af0065b30e47e23ebb3b491d39ae8ed17d33739e5ff3827ffb3634953|Comprar occaecati                                                           |done  |2024-02-11   |Item de Compra    |Jeferson Klau|530c4a2a-d0a1-70e0-b58c-c2ecf8b8052b|\n",
      "|LIST#20240211|ITEM#76a50887d8f1c2e9301755428990ad81479ee21c25b43215cf524541e0503269|2024-02-11|76a50887d8f1c2e9301755428990ad81479ee21c25b43215cf524541e0503269|Pariatur saepe temporibus mollitia qui inventore omnis                      |done  |2024-10-23   |Tarefa a Ser Feita|Jeferson Klau|530c4a2a-d0a1-70e0-b58c-c2ecf8b8052b|\n",
      "|LIST#20230624|ITEM#7a61b53701befdae0eeeffaecc73f14e20b537bb0f8b91ad7c2936dc63562b25|2023-06-24|7a61b53701befdae0eeeffaecc73f14e20b537bb0f8b91ad7c2936dc63562b25|Comprar magnam                                                              |done  |2023-09-03   |Item de Compra    |Jeferson Klau|530c4a2a-d0a1-70e0-b58c-c2ecf8b8052b|\n",
      "|LIST#20240624|ITEM#aea92132c4cbeb263e6ac2bf6c183b5d81737f179f21efdc5863739672f0f470|2024-06-24|aea92132c4cbeb263e6ac2bf6c183b5d81737f179f21efdc5863739672f0f470|Quaerat repellendus dolorem corporis                                        |done  |2024-07-31   |Tarefa a Ser Feita|Jeferson Klau|530c4a2a-d0a1-70e0-b58c-c2ecf8b8052b|\n",
      "|LIST#20230605|ITEM#0b918943df0962bc7a1824c0555a389347b4febdc7cf9d1254406d80ce44e3f9|2023-06-05|0b918943df0962bc7a1824c0555a389347b4febdc7cf9d1254406d80ce44e3f9|Voluptas fuga sequi impedit eaque iure dolor neque                          |done  |2023-11-22   |Tarefa a Ser Feita|Jeferson Klau|530c4a2a-d0a1-70e0-b58c-c2ecf8b8052b|\n",
      "|LIST#20240420|ITEM#d59eced1ded07f84c145592f65bdf854358e009c5cd705f5215bf18697fed103|2024-04-20|d59eced1ded07f84c145592f65bdf854358e009c5cd705f5215bf18697fed103|Comprar beatae                                                              |todo  |NULL         |Item de Compra    |Jeferson Klau|530c4a2a-d0a1-70e0-b58c-c2ecf8b8052b|\n",
      "|LIST#20240913|ITEM#3d914f9348c9cc0ff8a79716700b9fcd4d2f3e711608004eb8f138bcba7f14d9|2024-09-13|3d914f9348c9cc0ff8a79716700b9fcd4d2f3e711608004eb8f138bcba7f14d9|Earum sint quisquam vero labore nostrum                                     |done  |2025-06-02   |Tarefa a Ser Feita|Jeferson Klau|530c4a2a-d0a1-70e0-b58c-c2ecf8b8052b|\n",
      "|LIST#20241204|ITEM#73475cb40a568e8da8a045ced110137e159f890ac4da883b6b17dc651b3a8049|2024-12-04|73475cb40a568e8da8a045ced110137e159f890ac4da883b6b17dc651b3a8049|Repellendus in a quisquam quod ad architecto ipsam                          |todo  |NULL         |Tarefa a Ser Feita|Jeferson Klau|530c4a2a-d0a1-70e0-b58c-c2ecf8b8052b|\n",
      "|LIST#20241102|ITEM#44cb730c420480a0477b505ae68af508fb90f96cf0ec54c6ad16949dd427f13a|2024-11-02|44cb730c420480a0477b505ae68af508fb90f96cf0ec54c6ad16949dd427f13a|Ut ut animi dolorem                                                         |todo  |NULL         |Tarefa a Ser Feita|Jeferson Klau|530c4a2a-d0a1-70e0-b58c-c2ecf8b8052b|\n",
      "|LIST#20250417|ITEM#71ee45a3c0db9a9865f7313dd3372cf60dca6479d46261f3542eb9346e4a04d6|2025-04-17|71ee45a3c0db9a9865f7313dd3372cf60dca6479d46261f3542eb9346e4a04d6|Possimus                                                                    |todo  |NULL         |Tarefa a Ser Feita|Jeferson Klau|530c4a2a-d0a1-70e0-b58c-c2ecf8b8052b|\n",
      "|LIST#20241106|ITEM#811786ad1ae74adfdd20dd0372abaaebc6246e343aebd01da0bfc4c02bf0106c|2024-11-06|811786ad1ae74adfdd20dd0372abaaebc6246e343aebd01da0bfc4c02bf0106c|Quae atque quia                                                             |todo  |NULL         |Tarefa a Ser Feita|Jeferson Klau|530c4a2a-d0a1-70e0-b58c-c2ecf8b8052b|\n",
      "|LIST#20230711|ITEM#25fc0e7096fc653718202dc30b0c580b8ab87eac11a700cba03a7c021bc35b0c|2023-07-11|25fc0e7096fc653718202dc30b0c580b8ab87eac11a700cba03a7c021bc35b0c|Cupiditate ducimus tempora tempore                                          |done  |2023-11-23   |Tarefa a Ser Feita|Jeferson Klau|530c4a2a-d0a1-70e0-b58c-c2ecf8b8052b|\n",
      "|LIST#20231011|ITEM#31489056e0916d59fe3add79e63f095af3ffb81604691f21cad442a85c7be617|2023-10-11|31489056e0916d59fe3add79e63f095af3ffb81604691f21cad442a85c7be617|Molestias autem repellendus officia                                         |done  |2023-12-19   |Tarefa a Ser Feita|Jeferson Klau|530c4a2a-d0a1-70e0-b58c-c2ecf8b8052b|\n",
      "|LIST#20230929|ITEM#98010bd9270f9b100b6214a21754fd33bdc8d41b2bc9f9dd16ff54d3c34ffd71|2023-09-29|98010bd9270f9b100b6214a21754fd33bdc8d41b2bc9f9dd16ff54d3c34ffd71|Aut perspiciatis                                                            |done  |2023-12-27   |Tarefa a Ser Feita|Jeferson Klau|530c4a2a-d0a1-70e0-b58c-c2ecf8b8052b|\n",
      "|LIST#20230912|ITEM#0e17daca5f3e175f448bacace3bc0da47d0655a74c8dd0dc497a3afbdad95f1f|2023-09-12|0e17daca5f3e175f448bacace3bc0da47d0655a74c8dd0dc497a3afbdad95f1f|Commodi nobis doloremque                                                    |done  |2024-06-14   |Tarefa a Ser Feita|Jeferson Klau|530c4a2a-d0a1-70e0-b58c-c2ecf8b8052b|\n",
      "|LIST#20231223|ITEM#1a6562590ef19d1045d06c4055742d38288e9e6dcd71ccde5cee80f1d5a774eb|2023-12-23|1a6562590ef19d1045d06c4055742d38288e9e6dcd71ccde5cee80f1d5a774eb|Alias deserunt esse                                                         |done  |2024-01-30   |Tarefa a Ser Feita|Jeferson Klau|530c4a2a-d0a1-70e0-b58c-c2ecf8b8052b|\n",
      "|LIST#20240204|ITEM#031b4af5197ec30a926f48cf40e11a7dbc470048a21e4003b7a3c07c5dab1baa|2024-02-04|031b4af5197ec30a926f48cf40e11a7dbc470048a21e4003b7a3c07c5dab1baa|Comprar illo                                                                |done  |2024-05-16   |Item de Compra    |Jeferson Klau|530c4a2a-d0a1-70e0-b58c-c2ecf8b8052b|\n",
      "|LIST#20230729|ITEM#41cfc0d1f2d127b04555b7246d84019b4d27710a3f3aff6e7764375b1e06e05d|2023-07-29|41cfc0d1f2d127b04555b7246d84019b4d27710a3f3aff6e7764375b1e06e05d|Sunt quia quasi error dolores eaque                                         |done  |2024-07-25   |Tarefa a Ser Feita|Jeferson Klau|530c4a2a-d0a1-70e0-b58c-c2ecf8b8052b|\n",
      "|LIST#20240515|ITEM#2858dcd1057d3eae7f7d5f782167e24b61153c01551450a628cee722509f6529|2024-05-15|2858dcd1057d3eae7f7d5f782167e24b61153c01551450a628cee722509f6529|Explicabo quis                                                              |todo  |NULL         |Tarefa a Ser Feita|Jeferson Klau|530c4a2a-d0a1-70e0-b58c-c2ecf8b8052b|\n",
      "|LIST#20231124|ITEM#2fca346db656187102ce806ac732e06a62df0dbb2829e511a770556d398e1a6e|2023-11-24|2fca346db656187102ce806ac732e06a62df0dbb2829e511a770556d398e1a6e|Repellendus eos                                                             |done  |2023-12-14   |Tarefa a Ser Feita|Jeferson Klau|530c4a2a-d0a1-70e0-b58c-c2ecf8b8052b|\n",
      "|LIST#20230730|ITEM#02d20bbd7e394ad5999a4cebabac9619732c343a4cac99470c03e23ba2bdc2bc|2023-07-30|02d20bbd7e394ad5999a4cebabac9619732c343a4cac99470c03e23ba2bdc2bc|Commodi aliquam                                                             |todo  |NULL         |Tarefa a Ser Feita|Jeferson Klau|530c4a2a-d0a1-70e0-b58c-c2ecf8b8052b|\n",
      "|LIST#20240821|ITEM#7688b6ef52555962d008fff894223582c484517cea7da49ee67800adc7fc8866|2024-08-21|7688b6ef52555962d008fff894223582c484517cea7da49ee67800adc7fc8866|Comprar adipisci                                                            |todo  |NULL         |Item de Compra    |Jeferson Klau|530c4a2a-d0a1-70e0-b58c-c2ecf8b8052b|\n",
      "|LIST#20240520|ITEM#c837649cce43f2729138e72cc315207057ac82599a59be72765a477f22d14a54|2024-05-20|c837649cce43f2729138e72cc315207057ac82599a59be72765a477f22d14a54|Quas quibusdam aut temporibus similique quisquam laboriosam                 |done  |2025-01-29   |Tarefa a Ser Feita|Jeferson Klau|530c4a2a-d0a1-70e0-b58c-c2ecf8b8052b|\n",
      "|LIST#20240622|ITEM#6208ef0f7750c111548cf90b6ea1d0d0a66f6bff40dbef07cb45ec436263c7d6|2024-06-22|6208ef0f7750c111548cf90b6ea1d0d0a66f6bff40dbef07cb45ec436263c7d6|Comprar expedita                                                            |done  |2024-07-09   |Item de Compra    |Jeferson Klau|530c4a2a-d0a1-70e0-b58c-c2ecf8b8052b|\n",
      "|LIST#20240229|ITEM#3e1e967e9b793e908f8eae83c74dba9bcccce6a5535b4b462bd9994537bfe15c|2024-02-29|3e1e967e9b793e908f8eae83c74dba9bcccce6a5535b4b462bd9994537bfe15c|Comprar cumque                                                              |done  |2024-08-11   |Item de Compra    |Jeferson Klau|530c4a2a-d0a1-70e0-b58c-c2ecf8b8052b|\n",
      "|LIST#20241113|ITEM#39fa9ec190eee7b6f4dff1100d6343e10918d044c75eac8f9e9a2596173f80c9|2024-11-13|39fa9ec190eee7b6f4dff1100d6343e10918d044c75eac8f9e9a2596173f80c9|Perspiciatis temporibus                                                     |todo  |NULL         |Tarefa a Ser Feita|Jeferson Klau|530c4a2a-d0a1-70e0-b58c-c2ecf8b8052b|\n",
      "|LIST#20241207|ITEM#d029fa3a95e174a19934857f535eb9427d967218a36ea014b70ad704bc6c8d1c|2024-12-07|d029fa3a95e174a19934857f535eb9427d967218a36ea014b70ad704bc6c8d1c|Beatae totam molestias                                                      |done  |2025-06-02   |Tarefa a Ser Feita|Jeferson Klau|530c4a2a-d0a1-70e0-b58c-c2ecf8b8052b|\n",
      "|LIST#20241116|ITEM#81b8a03f97e8787c53fe1a86bda042b6f0de9b0ec9c09357e107c99ba4d6948a|2024-11-16|81b8a03f97e8787c53fe1a86bda042b6f0de9b0ec9c09357e107c99ba4d6948a|Cum quibusdam quae                                                          |todo  |NULL         |Tarefa a Ser Feita|Jeferson Klau|530c4a2a-d0a1-70e0-b58c-c2ecf8b8052b|\n",
      "|LIST#20241005|ITEM#da4ea2a5506f2693eae190d9360a1f31793c98a1adade51d93533a6f520ace1c|2024-10-05|da4ea2a5506f2693eae190d9360a1f31793c98a1adade51d93533a6f520ace1c|Comprar blanditiis                                                          |done  |2025-02-01   |Item de Compra    |Jeferson Klau|530c4a2a-d0a1-70e0-b58c-c2ecf8b8052b|\n",
      "|LIST#20250207|ITEM#a68b412c4282555f15546cf6e1fc42893b7e07f271557ceb021821098dd66c1b|2025-02-07|a68b412c4282555f15546cf6e1fc42893b7e07f271557ceb021821098dd66c1b|Cupiditate quaerat alias                                                    |todo  |NULL         |Tarefa a Ser Feita|Jeferson Klau|530c4a2a-d0a1-70e0-b58c-c2ecf8b8052b|\n",
      "|LIST#20241222|ITEM#108c995b953c8a35561103e2014cf828eb654a99e310f87fab94c2f4b7d2a04f|2024-12-22|108c995b953c8a35561103e2014cf828eb654a99e310f87fab94c2f4b7d2a04f|Comprar adipisci                                                            |todo  |NULL         |Item de Compra    |Jeferson Klau|530c4a2a-d0a1-70e0-b58c-c2ecf8b8052b|\n",
      "|LIST#20250328|ITEM#3ada92f28b4ceda38562ebf047c6ff05400d4c572352a1142eedfef67d21e662|2025-03-28|3ada92f28b4ceda38562ebf047c6ff05400d4c572352a1142eedfef67d21e662|Aut error magnam provident illum                                            |done  |2025-05-28   |Tarefa a Ser Feita|Jeferson Klau|530c4a2a-d0a1-70e0-b58c-c2ecf8b8052b|\n",
      "|LIST#20241031|ITEM#49d180ecf56132819571bf39d9b7b342522a2ac6d23c1418d3338251bfe469c8|2024-10-31|49d180ecf56132819571bf39d9b7b342522a2ac6d23c1418d3338251bfe469c8|Comprar id                                                                  |todo  |NULL         |Item de Compra    |Jeferson Klau|530c4a2a-d0a1-70e0-b58c-c2ecf8b8052b|\n",
      "|LIST#20231009|ITEM#a21855da08cb102d1d217c53dc5824a3a795c1c1a44e971bf01ab9da3a2acbbf|2023-10-09|a21855da08cb102d1d217c53dc5824a3a795c1c1a44e971bf01ab9da3a2acbbf|Dicta quisquam                                                              |done  |2024-02-14   |Tarefa a Ser Feita|Jeferson Klau|530c4a2a-d0a1-70e0-b58c-c2ecf8b8052b|\n",
      "|LIST#20240520|ITEM#c75cb66ae28d8ebc6eded002c28a8ba0d06d3a78c6b5cbf9b2ade051f0775ac4|2024-05-20|c75cb66ae28d8ebc6eded002c28a8ba0d06d3a78c6b5cbf9b2ade051f0775ac4|Incidunt eveniet doloremque voluptatem autem                                |done  |2024-07-25   |Tarefa a Ser Feita|Jeferson Klau|530c4a2a-d0a1-70e0-b58c-c2ecf8b8052b|\n",
      "|LIST#20250506|ITEM#ff5a1ae012afa5d4c889c50ad427aaf545d31a4fac04ffc1c4d03d403ba4250a|2025-05-06|ff5a1ae012afa5d4c889c50ad427aaf545d31a4fac04ffc1c4d03d403ba4250a|Comprar magnam                                                              |done  |2025-06-02   |Item de Compra    |Jeferson Klau|530c4a2a-d0a1-70e0-b58c-c2ecf8b8052b|\n",
      "|LIST#20250118|ITEM#7f2253d7e228b22a08bda1f09c516f6fead81df6536eb02fa991a34bb38d9be8|2025-01-18|7f2253d7e228b22a08bda1f09c516f6fead81df6536eb02fa991a34bb38d9be8|Nihil earum voluptates                                                      |todo  |NULL         |Tarefa a Ser Feita|Jeferson Klau|530c4a2a-d0a1-70e0-b58c-c2ecf8b8052b|\n",
      "|LIST#20240405|ITEM#8722616204217eddb39e7df969e0698aed8e599ba62ed2de1ce49b03ade0fede|2024-04-05|8722616204217eddb39e7df969e0698aed8e599ba62ed2de1ce49b03ade0fede|Reiciendis voluptatibus voluptatibus nesciunt dignissimos placeat reiciendis|todo  |NULL         |Tarefa a Ser Feita|Jeferson Klau|530c4a2a-d0a1-70e0-b58c-c2ecf8b8052b|\n",
      "|LIST#20230616|ITEM#96061e92f58e4bdcdee73df36183fe3ac64747c81c26f6c83aada8d2aabb1864|2023-06-16|96061e92f58e4bdcdee73df36183fe3ac64747c81c26f6c83aada8d2aabb1864|Illum quidem eaque quo optio cum explicabo                                  |done  |2024-01-22   |Tarefa a Ser Feita|Jeferson Klau|530c4a2a-d0a1-70e0-b58c-c2ecf8b8052b|\n",
      "|LIST#20240206|ITEM#eb624dbe56eb6620ae62080c10a273cab73ae8eca98ab17b731446a31c79393a|2024-02-06|eb624dbe56eb6620ae62080c10a273cab73ae8eca98ab17b731446a31c79393a|Quasi omnis repudiandae ea omnis mollitia fugit iusto                       |done  |2024-10-04   |Tarefa a Ser Feita|Jeferson Klau|530c4a2a-d0a1-70e0-b58c-c2ecf8b8052b|\n",
      "|LIST#20231006|ITEM#f369cb89fc627e668987007d121ed1eacdc01db9e28f8bb26f358b7d8c4f08ac|2023-10-06|f369cb89fc627e668987007d121ed1eacdc01db9e28f8bb26f358b7d8c4f08ac|Earum tempore exercitationem corrupti accusamus                             |todo  |NULL         |Tarefa a Ser Feita|Jeferson Klau|530c4a2a-d0a1-70e0-b58c-c2ecf8b8052b|\n",
      "|LIST#20240604|ITEM#f74efabef12ea619e30b79bddef89cffa9dda494761681ca862cff2871a85980|2024-06-04|f74efabef12ea619e30b79bddef89cffa9dda494761681ca862cff2871a85980|Comprar neque                                                               |done  |2024-08-22   |Item de Compra    |Jeferson Klau|530c4a2a-d0a1-70e0-b58c-c2ecf8b8052b|\n",
      "|LIST#20240203|ITEM#a88a7902cb4ef697ba0b6759c50e8c10297ff58f942243de19b984841bfe1f73|2024-02-03|a88a7902cb4ef697ba0b6759c50e8c10297ff58f942243de19b984841bfe1f73|Comprar soluta                                                              |done  |2024-02-12   |Item de Compra    |Jeferson Klau|530c4a2a-d0a1-70e0-b58c-c2ecf8b8052b|\n",
      "|LIST#20240103|ITEM#349c41201b62db851192665c504b350ff98c6b45fb62a8a2161f78b6534d8de9|2024-01-03|349c41201b62db851192665c504b350ff98c6b45fb62a8a2161f78b6534d8de9|Expedita dolor harum dicta laudantium pariatur                              |todo  |NULL         |Tarefa a Ser Feita|Jeferson Klau|530c4a2a-d0a1-70e0-b58c-c2ecf8b8052b|\n",
      "|LIST#20230804|ITEM#98a3ab7c340e8a033e7b37b6ef9428751581760af67bbab2b9e05d4964a8874a|2023-08-04|98a3ab7c340e8a033e7b37b6ef9428751581760af67bbab2b9e05d4964a8874a|Tenetur dolore fuga repellendus exercitationem eius repudiandae             |todo  |NULL         |Tarefa a Ser Feita|Jeferson Klau|530c4a2a-d0a1-70e0-b58c-c2ecf8b8052b|\n",
      "|LIST#20230823|ITEM#48449a14a4ff7d79bb7a1b6f3d488eba397c36ef25634c111b49baf362511afc|2023-08-23|48449a14a4ff7d79bb7a1b6f3d488eba397c36ef25634c111b49baf362511afc|Modi maxime eligendi explicabo nemo iste perspiciatis                       |done  |2023-09-23   |Tarefa a Ser Feita|Jeferson Klau|530c4a2a-d0a1-70e0-b58c-c2ecf8b8052b|\n",
      "|LIST#20241122|ITEM#5316ca1c5ddca8e6ceccfce58f3b8540e540ee22f6180fb89492904051b3d531|2024-11-22|5316ca1c5ddca8e6ceccfce58f3b8540e540ee22f6180fb89492904051b3d531|Ad nesciunt                                                                 |todo  |NULL         |Tarefa a Ser Feita|Jeferson Klau|530c4a2a-d0a1-70e0-b58c-c2ecf8b8052b|\n",
      "|LIST#20230721|ITEM#a46e37632fa6ca51a13fe39a567b3c23b28c2f47d8af6be9bd63e030e214ba38|2023-07-21|a46e37632fa6ca51a13fe39a567b3c23b28c2f47d8af6be9bd63e030e214ba38|Sapiente veritatis praesentium                                              |done  |2023-09-22   |Tarefa a Ser Feita|Jeferson Klau|530c4a2a-d0a1-70e0-b58c-c2ecf8b8052b|\n",
      "|LIST#20240324|ITEM#bbb965ab0c80d6538cf2184babad2a564a010376712012bd07b0af92dcd3097d|2024-03-24|bbb965ab0c80d6538cf2184babad2a564a010376712012bd07b0af92dcd3097d|Quaerat excepturi molestiae quis dolores blanditiis                         |todo  |NULL         |Tarefa a Ser Feita|Jeferson Klau|530c4a2a-d0a1-70e0-b58c-c2ecf8b8052b|\n",
      "|LIST#20250428|ITEM#44c8031cb036a7350d8b9b8603af662a4b9cdbd2f96e8d5de5af435c9c35da69|2025-04-28|44c8031cb036a7350d8b9b8603af662a4b9cdbd2f96e8d5de5af435c9c35da69|Laborum iusto esse sequi odit                                               |done  |2025-06-02   |Tarefa a Ser Feita|Jeferson Klau|530c4a2a-d0a1-70e0-b58c-c2ecf8b8052b|\n",
      "|LIST#20230910|ITEM#b4944c6ff08dc6f43da2e9c824669b7d927dd1fa976fadc7b456881f51bf5ccc|2023-09-10|b4944c6ff08dc6f43da2e9c824669b7d927dd1fa976fadc7b456881f51bf5ccc|Aliquam animi illum                                                         |done  |2023-11-09   |Tarefa a Ser Feita|Jeferson Klau|530c4a2a-d0a1-70e0-b58c-c2ecf8b8052b|\n",
      "|LIST#20240119|ITEM#434c9b5ae514646bbd91b50032ca579efec8f22bf0b4aac12e65997c418e0dd6|2024-01-19|434c9b5ae514646bbd91b50032ca579efec8f22bf0b4aac12e65997c418e0dd6|Sit sapiente quis explicabo                                                 |done  |2024-11-19   |Tarefa a Ser Feita|Jeferson Klau|530c4a2a-d0a1-70e0-b58c-c2ecf8b8052b|\n",
      "|LIST#20241025|ITEM#bdd2d3af3a5a1213497d4f1f7bfcda898274fe9cb5401bbc0190885664708fc2|2024-10-25|bdd2d3af3a5a1213497d4f1f7bfcda898274fe9cb5401bbc0190885664708fc2|Iusto cumque quae magni provident                                           |done  |2025-05-04   |Tarefa a Ser Feita|Jeferson Klau|530c4a2a-d0a1-70e0-b58c-c2ecf8b8052b|\n",
      "|LIST#20240204|ITEM#8b940be7fb78aaa6b6567dd7a3987996947460df1c668e698eb92ca77e425349|2024-02-04|8b940be7fb78aaa6b6567dd7a3987996947460df1c668e698eb92ca77e425349|Illum autem hic                                                             |todo  |NULL         |Tarefa a Ser Feita|Jeferson Klau|530c4a2a-d0a1-70e0-b58c-c2ecf8b8052b|\n",
      "|LIST#20240927|ITEM#cd70bea023f752a0564abb6ed08d42c1440f2e33e29914e55e0be1595e24f45a|2024-09-27|cd70bea023f752a0564abb6ed08d42c1440f2e33e29914e55e0be1595e24f45a|Asperiores corporis blanditiis odit similique iste illo odit eos            |done  |2024-12-07   |Tarefa a Ser Feita|Jeferson Klau|530c4a2a-d0a1-70e0-b58c-c2ecf8b8052b|\n",
      "|LIST#20230720|ITEM#69f59c273b6e669ac32a6dd5e1b2cb63333d8b004f9696447aee2d422ce63763|2023-07-20|69f59c273b6e669ac32a6dd5e1b2cb63333d8b004f9696447aee2d422ce63763|Consequatur eveniet sapiente iste iure voluptas                             |done  |2023-11-12   |Tarefa a Ser Feita|Jeferson Klau|530c4a2a-d0a1-70e0-b58c-c2ecf8b8052b|\n",
      "|LIST#20240531|ITEM#1da51b8d8ff98f6a48f80ae79fe3ca6c26e1abb7b7d125259255d6d2b875ea08|2024-05-31|1da51b8d8ff98f6a48f80ae79fe3ca6c26e1abb7b7d125259255d6d2b875ea08|Earum cum vitae magnam voluptatem                                           |todo  |NULL         |Tarefa a Ser Feita|Jeferson Klau|530c4a2a-d0a1-70e0-b58c-c2ecf8b8052b|\n",
      "|LIST#20241013|ITEM#8241649609f88ccd2a0a5b233a07a538ec313ff6adf695aa44a969dbca39f67d|2024-10-13|8241649609f88ccd2a0a5b233a07a538ec313ff6adf695aa44a969dbca39f67d|Quibusdam dolore nobis voluptatibus                                         |done  |2025-05-30   |Tarefa a Ser Feita|Jeferson Klau|530c4a2a-d0a1-70e0-b58c-c2ecf8b8052b|\n",
      "|LIST#20250322|ITEM#6e4001871c0cf27c7634ef1dc478408f642410fd3a444e2a88e301f5c4a35a4d|2025-03-22|6e4001871c0cf27c7634ef1dc478408f642410fd3a444e2a88e301f5c4a35a4d|Unde voluptate placeat ea nobis vero                                        |done  |2025-06-02   |Tarefa a Ser Feita|Jeferson Klau|530c4a2a-d0a1-70e0-b58c-c2ecf8b8052b|\n",
      "|LIST#20230912|ITEM#e3d6c4d4599e00882384ca981ee287ed961fa5f3828e2adb5e9ea890ab0d0525|2023-09-12|e3d6c4d4599e00882384ca981ee287ed961fa5f3828e2adb5e9ea890ab0d0525|Rem nesciunt est odit doloribus commodi quas excepturi voluptatem           |todo  |NULL         |Tarefa a Ser Feita|Jeferson Klau|530c4a2a-d0a1-70e0-b58c-c2ecf8b8052b|\n",
      "|LIST#20241206|ITEM#ad48ff99415b2f007dc35b7eb553fd1eb35ebfa2f2f308acd9488eeb86f71fa8|2024-12-06|ad48ff99415b2f007dc35b7eb553fd1eb35ebfa2f2f308acd9488eeb86f71fa8|Laboriosam excepturi cum magnam quisquam                                    |done  |2025-06-02   |Tarefa a Ser Feita|Jeferson Klau|530c4a2a-d0a1-70e0-b58c-c2ecf8b8052b|\n",
      "|LIST#20250125|ITEM#7b1a278f5abe8e9da907fc9c29dfd432d60dc76e17b0fabab659d2a508bc65c4|2025-01-25|7b1a278f5abe8e9da907fc9c29dfd432d60dc76e17b0fabab659d2a508bc65c4|Mollitia deserunt minima molestiae veritatis quae ab accusantium            |done  |2025-06-02   |Tarefa a Ser Feita|Jeferson Klau|530c4a2a-d0a1-70e0-b58c-c2ecf8b8052b|\n",
      "|LIST#20250309|ITEM#d6d824abba4afde81129c71dea75b8100e96338da5f416d2f69088f1960cb091|2025-03-09|d6d824abba4afde81129c71dea75b8100e96338da5f416d2f69088f1960cb091|Nesciunt quas praesentium neque vel ut odio                                 |done  |2025-06-02   |Tarefa a Ser Feita|Jeferson Klau|530c4a2a-d0a1-70e0-b58c-c2ecf8b8052b|\n",
      "|LIST#20230921|ITEM#29db0c6782dbd5000559ef4d9e953e300e2b479eed26d887ef3f92b921c06a67|2023-09-21|29db0c6782dbd5000559ef4d9e953e300e2b479eed26d887ef3f92b921c06a67|Ut laboriosam aperiam necessitatibus                                        |done  |2023-12-13   |Tarefa a Ser Feita|Jeferson Klau|530c4a2a-d0a1-70e0-b58c-c2ecf8b8052b|\n",
      "|LIST#20231226|ITEM#8c1f1046219ddd216a023f792356ddf127fce372a72ec9b4cdac989ee5b0b455|2023-12-26|8c1f1046219ddd216a023f792356ddf127fce372a72ec9b4cdac989ee5b0b455|Officiis maxime assumenda natus                                             |done  |2024-11-13   |Tarefa a Ser Feita|Jeferson Klau|530c4a2a-d0a1-70e0-b58c-c2ecf8b8052b|\n",
      "+-------------+---------------------------------------------------------------------+----------+----------------------------------------------------------------+----------------------------------------------------------------------------+------+-------------+------------------+-------------+------------------------------------+\n",
      "only showing top 100 rows\n"
     ]
    }
   ],
   "source": [
    "df_final.show(100, truncate=False)"
   ]
  },
  {
   "cell_type": "code",
   "execution_count": 42,
   "id": "bdee309b",
   "metadata": {},
   "outputs": [
    {
     "name": "stdout",
     "output_type": "stream",
     "text": [
      "Lote 1 inserido com sucesso!\n",
      "Lote 2 inserido com sucesso!\n",
      "Lote 3 inserido com sucesso!\n",
      "Lote 4 inserido com sucesso!\n",
      "Lote 5 inserido com sucesso!\n",
      "Lote 6 inserido com sucesso!\n",
      "Lote 7 inserido com sucesso!\n",
      "Lote 8 inserido com sucesso!\n",
      "Lote 9 inserido com sucesso!\n",
      "Lote 10 inserido com sucesso!\n",
      "Lote 11 inserido com sucesso!\n"
     ]
    }
   ],
   "source": [
    "import time\n",
    "from botocore.exceptions import ClientError\n",
    "import boto3\n",
    "\n",
    "dynamodb = boto3.resource('dynamodb', region_name='sa-east-1')\n",
    "table = dynamodb.Table(\"ListaMercado\")\n",
    "\n",
    "TAMANHO_LOTE = 100\n",
    "DELAY_SEGUNDOS = 2\n",
    "\n",
    "dados = [row.asDict() for row in df_final.collect()]\n",
    "\n",
    "for i in range(0, len(dados), TAMANHO_LOTE):\n",
    "    lote = dados[i:i + TAMANHO_LOTE]\n",
    "    \n",
    "    try:\n",
    "        with table.batch_writer() as batch:\n",
    "            for item in lote:  \n",
    "                batch.put_item(Item=item)\n",
    "        print(f\"Lote {i//TAMANHO_LOTE + 1} inserido com sucesso!\")\n",
    "    except ClientError as e:\n",
    "        print(f\"Erro na inserção do lote: {e.response['Error']['Message']}\")\n",
    "    except Exception as e:\n",
    "        print(f\"Erro inesperado: {e}\")\n",
    "    \n",
    "    time.sleep(DELAY_SEGUNDOS)\n"
   ]
  }
 ],
 "metadata": {
  "kernelspec": {
   "display_name": ".venv",
   "language": "python",
   "name": "python3"
  },
  "language_info": {
   "codemirror_mode": {
    "name": "ipython",
    "version": 3
   },
   "file_extension": ".py",
   "mimetype": "text/x-python",
   "name": "python",
   "nbconvert_exporter": "python",
   "pygments_lexer": "ipython3",
   "version": "3.13.3"
  }
 },
 "nbformat": 4,
 "nbformat_minor": 5
}
