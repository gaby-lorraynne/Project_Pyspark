{
 "cells": [
  {
   "cell_type": "code",
   "execution_count": 12,
   "id": "d5af0660",
   "metadata": {},
   "outputs": [],
   "source": [
    "# Importa pandas e funções do PySpark\n",
    "import pandas as pd\n",
    "import os\n",
    "import sys\n",
    "\n",
    "os.environ['PYSPARK_PYTHON'] = sys.executable\n",
    "os.environ['PYSPARK_DRIVER_PYTHON'] = sys.executable"
   ]
  },
  {
   "cell_type": "code",
   "execution_count": 13,
   "id": "847daf7d",
   "metadata": {},
   "outputs": [],
   "source": [
    "from pyspark.sql import SparkSession\n",
    "from pyspark.sql.functions import *\n",
    "from pyspark.sql.types import *"
   ]
  },
  {
   "cell_type": "code",
   "execution_count": 14,
   "id": "f5d05e36",
   "metadata": {},
   "outputs": [],
   "source": [
    "# Inicializa a SparkSession\n",
    "spark = SparkSession.builder.appName(\"InicializarDynamo\").getOrCreate()"
   ]
  },
  {
   "cell_type": "code",
   "execution_count": 15,
   "id": "26358e81",
   "metadata": {},
   "outputs": [],
   "source": [
    "# Lê o CSV \n",
    "df = spark.read.csv('../data/amostragem.csv', header=True, inferSchema=True, sep=';')"
   ]
  },
  {
   "cell_type": "code",
   "execution_count": 16,
   "id": "c76fc38d",
   "metadata": {},
   "outputs": [],
   "source": [
    "# Substitui status de acorco com a descrição e remove o usuário diferente de Jeferson\n",
    "df = df.withColumn(\n",
    "    \"status\",\n",
    "    when(col(\"Status Descrição\") == \"Concluído\", \"done\")\n",
    "    .when(col(\"Status Descrição\") == \"A Fazer\", \"todo\")\n",
    "    .otherwise(None)\n",
    ")"
   ]
  },
  {
   "cell_type": "code",
   "execution_count": 17,
   "id": "0e91a945",
   "metadata": {},
   "outputs": [],
   "source": [
    "# Mantém apenas linhas com status definido (done, todo)\n",
    "df = df.filter(col(\"status\").isNotNull())"
   ]
  },
  {
   "cell_type": "code",
   "execution_count": 18,
   "id": "f5583dd2",
   "metadata": {},
   "outputs": [],
   "source": [
    "# Mantém apenas linhas onde o usuário é 'Jeferson Klau'\n",
    "df = df.filter(col(\"Usuário\") == \"Jeferson Klau\")"
   ]
  },
  {
   "cell_type": "code",
   "execution_count": 19,
   "id": "5b20d2ef",
   "metadata": {},
   "outputs": [],
   "source": [
    "# Remove a coluna Status Descrição\n",
    "df = df.drop(\"Status Descrição\")\n",
    "\n",
    "# Remove a coluna Tipo da Tarefa ID\n",
    "df = df.drop(\"Tipo da Tarefa ID\")"
   ]
  },
  {
   "cell_type": "code",
   "execution_count": 20,
   "id": "90dc28dc",
   "metadata": {},
   "outputs": [],
   "source": [
    "# Renomeia colunas \n",
    "df = df.withColumnRenamed(\"Nome da Tarefa\", \"name\") \\\n",
    "       .withColumnRenamed(\"Tipo da Tarefa\", \"task_type\") \\\n",
    "       .withColumnRenamed(\"Data de Criação\", \"date\") \\\n",
    "       .withColumnRenamed(\"Status\", \"status\") "
   ]
  },
  {
   "cell_type": "code",
   "execution_count": 21,
   "id": "03923fed",
   "metadata": {},
   "outputs": [
    {
     "name": "stdout",
     "output_type": "stream",
     "text": [
      "+---------------------------------------+------------------+-------------------+-------------------+------+-------------+--------------------------------+\n",
      "|name                                   |task_type         |date               |Data de Conclusão  |status|Usuário      |ID do Usuário                   |\n",
      "+---------------------------------------+------------------+-------------------+-------------------+------+-------------+--------------------------------+\n",
      "|Cum iure exercitationem laboriosam     |Tarefa a Ser Feita|2024-07-18 22:51:51|2025-02-12 22:51:51|done  |Jeferson Klau|b4853fc1f03a3a4cec530a98a94d89ad|\n",
      "|Asperiores iusto                       |Tarefa a Ser Feita|2025-05-29 09:07:49|NULL               |todo  |Jeferson Klau|b4853fc1f03a3a4cec530a98a94d89ad|\n",
      "|Asperiores pariatur voluptatibus magnam|Tarefa a Ser Feita|2023-09-12 19:56:45|NULL               |todo  |Jeferson Klau|b4853fc1f03a3a4cec530a98a94d89ad|\n",
      "|Comprar ipsa                           |Item de Compra    |2024-11-27 13:01:39|2025-02-08 13:01:39|done  |Jeferson Klau|b4853fc1f03a3a4cec530a98a94d89ad|\n",
      "|Comprar tempore                        |Item de Compra    |2023-06-26 06:33:23|2024-06-15 06:33:23|done  |Jeferson Klau|b4853fc1f03a3a4cec530a98a94d89ad|\n",
      "|Laboriosam dolor                       |Tarefa a Ser Feita|2023-08-27 09:30:37|NULL               |todo  |Jeferson Klau|b4853fc1f03a3a4cec530a98a94d89ad|\n",
      "|Blanditiis corrupti quasi              |Tarefa a Ser Feita|2025-02-05 16:57:46|NULL               |todo  |Jeferson Klau|b4853fc1f03a3a4cec530a98a94d89ad|\n",
      "|Comprar esse                           |Item de Compra    |2025-02-13 11:13:26|2025-06-02 20:48:40|done  |Jeferson Klau|b4853fc1f03a3a4cec530a98a94d89ad|\n",
      "|Sunt soluta officia quam nesciunt      |Tarefa a Ser Feita|2024-03-31 16:41:51|NULL               |todo  |Jeferson Klau|b4853fc1f03a3a4cec530a98a94d89ad|\n",
      "|Comprar ab                             |Item de Compra    |2024-11-12 11:14:24|NULL               |todo  |Jeferson Klau|b4853fc1f03a3a4cec530a98a94d89ad|\n",
      "|Amet beatae esse                       |Tarefa a Ser Feita|2024-02-10 16:00:34|2024-02-14 16:00:34|done  |Jeferson Klau|b4853fc1f03a3a4cec530a98a94d89ad|\n",
      "|Modi                                   |Tarefa a Ser Feita|2025-03-12 12:43:39|NULL               |todo  |Jeferson Klau|b4853fc1f03a3a4cec530a98a94d89ad|\n",
      "|Comprar sed                            |Item de Compra    |2025-05-25 23:04:16|NULL               |todo  |Jeferson Klau|b4853fc1f03a3a4cec530a98a94d89ad|\n",
      "|Comprar ullam                          |Item de Compra    |2024-09-21 07:48:24|2025-01-25 07:48:24|done  |Jeferson Klau|b4853fc1f03a3a4cec530a98a94d89ad|\n",
      "|Ipsa accusantium voluptate             |Tarefa a Ser Feita|2024-05-19 03:14:54|2025-01-12 03:14:54|done  |Jeferson Klau|b4853fc1f03a3a4cec530a98a94d89ad|\n",
      "+---------------------------------------+------------------+-------------------+-------------------+------+-------------+--------------------------------+\n",
      "only showing top 15 rows\n"
     ]
    }
   ],
   "source": [
    "# Visualiza os dados\n",
    "df.show(15, truncate=False)"
   ]
  }
 ],
 "metadata": {
  "kernelspec": {
   "display_name": ".venv",
   "language": "python",
   "name": "python3"
  },
  "language_info": {
   "codemirror_mode": {
    "name": "ipython",
    "version": 3
   },
   "file_extension": ".py",
   "mimetype": "text/x-python",
   "name": "python",
   "nbconvert_exporter": "python",
   "pygments_lexer": "ipython3",
   "version": "3.13.3"
  }
 },
 "nbformat": 4,
 "nbformat_minor": 5
}
