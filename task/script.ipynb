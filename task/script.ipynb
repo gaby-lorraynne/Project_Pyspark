{
 "cells": [
  {
   "cell_type": "code",
   "execution_count": 1,
   "id": "d5af0660",
   "metadata": {},
   "outputs": [],
   "source": [
    "# Importa funções do PySpark\n",
    "import os\n",
    "import sys\n",
    "import boto3\n",
    "\n",
    "os.environ['PYSPARK_PYTHON'] = sys.executable\n",
    "os.environ['PYSPARK_DRIVER_PYTHON'] = sys.executable"
   ]
  },
  {
   "cell_type": "code",
   "execution_count": 2,
   "id": "847daf7d",
   "metadata": {},
   "outputs": [],
   "source": [
    "from pyspark.sql import SparkSession\n",
    "from pyspark.sql.functions import *\n",
    "from pyspark.sql.types import *\n",
    "from botocore.exceptions import ClientError"
   ]
  },
  {
   "cell_type": "code",
   "execution_count": 3,
   "id": "f5d05e36",
   "metadata": {},
   "outputs": [],
   "source": [
    "# Inicializa a SparkSession\n",
    "spark = SparkSession.builder.appName(\"InicializarDynamo\").getOrCreate()"
   ]
  },
  {
   "cell_type": "code",
   "execution_count": 4,
   "id": "26358e81",
   "metadata": {},
   "outputs": [],
   "source": [
    "# Lê o CSV \n",
    "df = spark.read.csv('../data/amostragem.csv', header=True, inferSchema=True, sep=';')"
   ]
  },
  {
   "cell_type": "code",
   "execution_count": 5,
   "id": "c76fc38d",
   "metadata": {},
   "outputs": [],
   "source": [
    "# Substitui status de acorco com a descrição e remove o usuário diferente de Jeferson\n",
    "df = df.withColumn(\n",
    "    \"status\",\n",
    "    when(col(\"Status Descrição\") == \"Concluído\", \"done\")\n",
    "    .when(col(\"Status Descrição\") == \"A Fazer\", \"todo\")\n",
    "    .otherwise(None)\n",
    ")"
   ]
  },
  {
   "cell_type": "code",
   "execution_count": 6,
   "id": "0e91a945",
   "metadata": {},
   "outputs": [],
   "source": [
    "# Mantém apenas linhas com status definido (done, todo)\n",
    "df = df.filter(col(\"status\").isNotNull())"
   ]
  },
  {
   "cell_type": "code",
   "execution_count": 7,
   "id": "f5583dd2",
   "metadata": {},
   "outputs": [],
   "source": [
    "# Mantém apenas linhas onde o usuário é 'Jeferson Klau'\n",
    "df = df.filter(col(\"Usuário\") == \"Jeferson Klau\")"
   ]
  },
  {
   "cell_type": "code",
   "execution_count": 8,
   "id": "5b20d2ef",
   "metadata": {},
   "outputs": [],
   "source": [
    "# Remove a coluna \"Status Descrição\" e \"Tipo da Tarefa ID\"\n",
    "df = df.drop(\"Status Descrição\", \"Tipo da Tarefa ID\")"
   ]
  },
  {
   "cell_type": "code",
   "execution_count": 9,
   "id": "90dc28dc",
   "metadata": {},
   "outputs": [],
   "source": [
    "# Renomeia colunas e adiciona colunas \"pk\" e \"sk\"\n",
    "df = df.withColumnRenamed(\"Nome da Tarefa\", \"name\") \\\n",
    "       .withColumnRenamed(\"Tipo da Tarefa\", \"taskType\") \\\n",
    "       .withColumnRenamed(\"Data de Criação\", \"date\") \\\n",
    "       .withColumnRenamed(\"Data de Conclusão\", \"dateCompleted\") \\\n",
    "       .withColumnRenamed(\"Usuário\", \"user\") \\\n",
    "       .withColumnRenamed(\"ID do Usuário\", \"userID\") \\\n",
    "       .withColumnRenamed(\"Status\", \"status\") "
   ]
  },
  {
   "cell_type": "code",
   "execution_count": 10,
   "id": "ade0dbe2",
   "metadata": {},
   "outputs": [],
   "source": [
    "# Adicionando a coluna PK\n",
    "df = df.withColumn(\"PK\", concat(lit(\"LIST#\"), date_format(col(\"date\"), \"yyyyMMdd\")))"
   ]
  },
  {
   "cell_type": "code",
   "execution_count": 11,
   "id": "62a96f09",
   "metadata": {},
   "outputs": [],
   "source": [
    "# Cria coluna 'date' formatada\n",
    "df = df.withColumn(\"date\", date_format(col(\"date\"), \"yyyy-MM-dd\"))"
   ]
  },
  {
   "cell_type": "code",
   "execution_count": 12,
   "id": "ce0f9f25",
   "metadata": {},
   "outputs": [],
   "source": [
    "df = df.withColumn(\"dateCompleted\", date_format(col(\"dateCompleted\"), \"yyyy-MM-dd\"))"
   ]
  },
  {
   "cell_type": "code",
   "execution_count": 13,
   "id": "03923fed",
   "metadata": {},
   "outputs": [
    {
     "name": "stdout",
     "output_type": "stream",
     "text": [
      "+------------------------------------------------------+------------------+----------+-------------+------+-------------+--------------------------------+-------------+\n",
      "|name                                                  |taskType          |date      |dateCompleted|status|user         |userID                          |PK           |\n",
      "+------------------------------------------------------+------------------+----------+-------------+------+-------------+--------------------------------+-------------+\n",
      "|Cum iure exercitationem laboriosam                    |Tarefa a Ser Feita|2024-07-18|2025-02-12   |done  |Jeferson Klau|b4853fc1f03a3a4cec530a98a94d89ad|LIST#20240718|\n",
      "|Asperiores iusto                                      |Tarefa a Ser Feita|2025-05-29|NULL         |todo  |Jeferson Klau|b4853fc1f03a3a4cec530a98a94d89ad|LIST#20250529|\n",
      "|Asperiores pariatur voluptatibus magnam               |Tarefa a Ser Feita|2023-09-12|NULL         |todo  |Jeferson Klau|b4853fc1f03a3a4cec530a98a94d89ad|LIST#20230912|\n",
      "|Comprar ipsa                                          |Item de Compra    |2024-11-27|2025-02-08   |done  |Jeferson Klau|b4853fc1f03a3a4cec530a98a94d89ad|LIST#20241127|\n",
      "|Comprar tempore                                       |Item de Compra    |2023-06-26|2024-06-15   |done  |Jeferson Klau|b4853fc1f03a3a4cec530a98a94d89ad|LIST#20230626|\n",
      "|Laboriosam dolor                                      |Tarefa a Ser Feita|2023-08-27|NULL         |todo  |Jeferson Klau|b4853fc1f03a3a4cec530a98a94d89ad|LIST#20230827|\n",
      "|Blanditiis corrupti quasi                             |Tarefa a Ser Feita|2025-02-05|NULL         |todo  |Jeferson Klau|b4853fc1f03a3a4cec530a98a94d89ad|LIST#20250205|\n",
      "|Comprar esse                                          |Item de Compra    |2025-02-13|2025-06-02   |done  |Jeferson Klau|b4853fc1f03a3a4cec530a98a94d89ad|LIST#20250213|\n",
      "|Sunt soluta officia quam nesciunt                     |Tarefa a Ser Feita|2024-03-31|NULL         |todo  |Jeferson Klau|b4853fc1f03a3a4cec530a98a94d89ad|LIST#20240331|\n",
      "|Comprar ab                                            |Item de Compra    |2024-11-12|NULL         |todo  |Jeferson Klau|b4853fc1f03a3a4cec530a98a94d89ad|LIST#20241112|\n",
      "|Amet beatae esse                                      |Tarefa a Ser Feita|2024-02-10|2024-02-14   |done  |Jeferson Klau|b4853fc1f03a3a4cec530a98a94d89ad|LIST#20240210|\n",
      "|Modi                                                  |Tarefa a Ser Feita|2025-03-12|NULL         |todo  |Jeferson Klau|b4853fc1f03a3a4cec530a98a94d89ad|LIST#20250312|\n",
      "|Comprar sed                                           |Item de Compra    |2025-05-25|NULL         |todo  |Jeferson Klau|b4853fc1f03a3a4cec530a98a94d89ad|LIST#20250525|\n",
      "|Comprar ullam                                         |Item de Compra    |2024-09-21|2025-01-25   |done  |Jeferson Klau|b4853fc1f03a3a4cec530a98a94d89ad|LIST#20240921|\n",
      "|Ipsa accusantium voluptate                            |Tarefa a Ser Feita|2024-05-19|2025-01-12   |done  |Jeferson Klau|b4853fc1f03a3a4cec530a98a94d89ad|LIST#20240519|\n",
      "|Doloremque excepturi repellendus ad iusto aut         |Tarefa a Ser Feita|2024-07-10|2025-01-16   |done  |Jeferson Klau|b4853fc1f03a3a4cec530a98a94d89ad|LIST#20240710|\n",
      "|Ad iusto culpa                                        |Tarefa a Ser Feita|2023-12-16|NULL         |todo  |Jeferson Klau|b4853fc1f03a3a4cec530a98a94d89ad|LIST#20231216|\n",
      "|Rerum animi ducimus vel                               |Tarefa a Ser Feita|2024-10-10|2024-12-13   |done  |Jeferson Klau|b4853fc1f03a3a4cec530a98a94d89ad|LIST#20241010|\n",
      "|Comprar aspernatur                                    |Item de Compra    |2024-03-10|NULL         |todo  |Jeferson Klau|b4853fc1f03a3a4cec530a98a94d89ad|LIST#20240310|\n",
      "|Fuga quae corporis dignissimos voluptas dolorem ipsa  |Tarefa a Ser Feita|2024-07-08|NULL         |todo  |Jeferson Klau|b4853fc1f03a3a4cec530a98a94d89ad|LIST#20240708|\n",
      "|Facilis illo quibusdam                                |Tarefa a Ser Feita|2024-02-17|2024-05-26   |done  |Jeferson Klau|b4853fc1f03a3a4cec530a98a94d89ad|LIST#20240217|\n",
      "|Minus quisquam quae                                   |Tarefa a Ser Feita|2024-12-07|2025-06-02   |done  |Jeferson Klau|b4853fc1f03a3a4cec530a98a94d89ad|LIST#20241207|\n",
      "|Delectus cum aut rem earum                            |Tarefa a Ser Feita|2023-12-31|2024-06-10   |done  |Jeferson Klau|b4853fc1f03a3a4cec530a98a94d89ad|LIST#20231231|\n",
      "|Nobis fugit earum enim quo ipsa                       |Tarefa a Ser Feita|2025-05-09|NULL         |todo  |Jeferson Klau|b4853fc1f03a3a4cec530a98a94d89ad|LIST#20250509|\n",
      "|Atque nostrum eveniet aperiam                         |Tarefa a Ser Feita|2023-12-07|2024-04-17   |done  |Jeferson Klau|b4853fc1f03a3a4cec530a98a94d89ad|LIST#20231207|\n",
      "|Natus cum voluptas accusamus assumenda magni          |Tarefa a Ser Feita|2024-10-18|2024-12-31   |done  |Jeferson Klau|b4853fc1f03a3a4cec530a98a94d89ad|LIST#20241018|\n",
      "|Dolore harum quos omnis maxime facilis                |Tarefa a Ser Feita|2023-10-15|NULL         |todo  |Jeferson Klau|b4853fc1f03a3a4cec530a98a94d89ad|LIST#20231015|\n",
      "|Fuga ipsam autem alias commodi                        |Tarefa a Ser Feita|2024-06-03|NULL         |todo  |Jeferson Klau|b4853fc1f03a3a4cec530a98a94d89ad|LIST#20240603|\n",
      "|Facilis non                                           |Tarefa a Ser Feita|2024-04-13|2025-03-03   |done  |Jeferson Klau|b4853fc1f03a3a4cec530a98a94d89ad|LIST#20240413|\n",
      "|Quis voluptatem                                       |Tarefa a Ser Feita|2024-11-26|NULL         |todo  |Jeferson Klau|b4853fc1f03a3a4cec530a98a94d89ad|LIST#20241126|\n",
      "|Sunt beatae                                           |Tarefa a Ser Feita|2023-06-19|2024-01-30   |done  |Jeferson Klau|b4853fc1f03a3a4cec530a98a94d89ad|LIST#20230619|\n",
      "|Comprar voluptatum                                    |Item de Compra    |2024-07-25|2025-04-13   |done  |Jeferson Klau|b4853fc1f03a3a4cec530a98a94d89ad|LIST#20240725|\n",
      "|Ipsum doloremque officiis ipsa assumenda sint         |Tarefa a Ser Feita|2025-03-22|2025-06-02   |done  |Jeferson Klau|b4853fc1f03a3a4cec530a98a94d89ad|LIST#20250322|\n",
      "|Beatae architecto nam                                 |Tarefa a Ser Feita|2024-10-05|NULL         |todo  |Jeferson Klau|b4853fc1f03a3a4cec530a98a94d89ad|LIST#20241005|\n",
      "|Nihil ullam mollitia nobis atque                      |Tarefa a Ser Feita|2024-10-24|2025-06-02   |done  |Jeferson Klau|b4853fc1f03a3a4cec530a98a94d89ad|LIST#20241024|\n",
      "|Comprar occaecati                                     |Item de Compra    |2023-09-21|2024-02-11   |done  |Jeferson Klau|b4853fc1f03a3a4cec530a98a94d89ad|LIST#20230921|\n",
      "|Pariatur saepe temporibus mollitia qui inventore omnis|Tarefa a Ser Feita|2024-02-11|2024-10-23   |done  |Jeferson Klau|b4853fc1f03a3a4cec530a98a94d89ad|LIST#20240211|\n",
      "+------------------------------------------------------+------------------+----------+-------------+------+-------------+--------------------------------+-------------+\n",
      "\n"
     ]
    }
   ],
   "source": [
    "# Visualiza os dados\n",
    "df.show(100, truncate=False)"
   ]
  },
  {
   "cell_type": "code",
   "execution_count": 14,
   "id": "3fd368be",
   "metadata": {},
   "outputs": [],
   "source": [
    "df = df.withColumn(\"row_id\", monotonically_increasing_id())"
   ]
  },
  {
   "cell_type": "code",
   "execution_count": 15,
   "id": "e3b09ffc",
   "metadata": {},
   "outputs": [],
   "source": [
    "df = df.withColumn(\"itemId\", sha2(col(\"row_id\").cast(\"string\"), 256))"
   ]
  },
  {
   "cell_type": "code",
   "execution_count": 16,
   "id": "61fa76a5",
   "metadata": {},
   "outputs": [],
   "source": [
    "df = df.withColumn(\"SK\", concat(lit(\"ITEM#\"), col(\"itemId\")))"
   ]
  },
  {
   "cell_type": "code",
   "execution_count": 17,
   "id": "092fc626",
   "metadata": {},
   "outputs": [],
   "source": [
    "df = df.drop(\"row_id\")"
   ]
  },
  {
   "cell_type": "code",
   "execution_count": 18,
   "id": "bb947814",
   "metadata": {},
   "outputs": [],
   "source": [
    "from dotenv import load_dotenv\n",
    "load_dotenv()\n",
    "userId = os.getenv(\"USER_ID\")\n",
    "df = df.withColumn(\"userID\", lit(userId))"
   ]
  },
  {
   "cell_type": "code",
   "execution_count": 19,
   "id": "58a39ba9",
   "metadata": {},
   "outputs": [],
   "source": [
    "df_final = df.select(\n",
    "    \"PK\", \"SK\", \"date\", \"itemId\", \"name\", \"status\",\n",
    "    \"dateCompleted\", \"taskType\", \"user\", \"userID\"\n",
    ")"
   ]
  },
  {
   "cell_type": "code",
   "execution_count": 20,
   "id": "79280509",
   "metadata": {},
   "outputs": [
    {
     "name": "stdout",
     "output_type": "stream",
     "text": [
      "+-------------+---------------------------------------------------------------------+----------+----------------------------------------------------------------+------------------------------------------------------+------+-------------+------------------+-------------+------------------------------------+\n",
      "|PK           |SK                                                                   |date      |itemId                                                          |name                                                  |status|dateCompleted|taskType          |user         |userID                              |\n",
      "+-------------+---------------------------------------------------------------------+----------+----------------------------------------------------------------+------------------------------------------------------+------+-------------+------------------+-------------+------------------------------------+\n",
      "|LIST#20240718|ITEM#5feceb66ffc86f38d952786c6d696c79c2dbc239dd4e91b46729d73a27fb57e9|2024-07-18|5feceb66ffc86f38d952786c6d696c79c2dbc239dd4e91b46729d73a27fb57e9|Cum iure exercitationem laboriosam                    |done  |2025-02-12   |Tarefa a Ser Feita|Jeferson Klau|530c4a2a-d0a1-70e0-b58c-c2ecf8b8052b|\n",
      "|LIST#20250529|ITEM#6b86b273ff34fce19d6b804eff5a3f5747ada4eaa22f1d49c01e52ddb7875b4b|2025-05-29|6b86b273ff34fce19d6b804eff5a3f5747ada4eaa22f1d49c01e52ddb7875b4b|Asperiores iusto                                      |todo  |NULL         |Tarefa a Ser Feita|Jeferson Klau|530c4a2a-d0a1-70e0-b58c-c2ecf8b8052b|\n",
      "|LIST#20230912|ITEM#d4735e3a265e16eee03f59718b9b5d03019c07d8b6c51f90da3a666eec13ab35|2023-09-12|d4735e3a265e16eee03f59718b9b5d03019c07d8b6c51f90da3a666eec13ab35|Asperiores pariatur voluptatibus magnam               |todo  |NULL         |Tarefa a Ser Feita|Jeferson Klau|530c4a2a-d0a1-70e0-b58c-c2ecf8b8052b|\n",
      "|LIST#20241127|ITEM#4e07408562bedb8b60ce05c1decfe3ad16b72230967de01f640b7e4729b49fce|2024-11-27|4e07408562bedb8b60ce05c1decfe3ad16b72230967de01f640b7e4729b49fce|Comprar ipsa                                          |done  |2025-02-08   |Item de Compra    |Jeferson Klau|530c4a2a-d0a1-70e0-b58c-c2ecf8b8052b|\n",
      "|LIST#20230626|ITEM#4b227777d4dd1fc61c6f884f48641d02b4d121d3fd328cb08b5531fcacdabf8a|2023-06-26|4b227777d4dd1fc61c6f884f48641d02b4d121d3fd328cb08b5531fcacdabf8a|Comprar tempore                                       |done  |2024-06-15   |Item de Compra    |Jeferson Klau|530c4a2a-d0a1-70e0-b58c-c2ecf8b8052b|\n",
      "|LIST#20230827|ITEM#ef2d127de37b942baad06145e54b0c619a1f22327b2ebbcfbec78f5564afe39d|2023-08-27|ef2d127de37b942baad06145e54b0c619a1f22327b2ebbcfbec78f5564afe39d|Laboriosam dolor                                      |todo  |NULL         |Tarefa a Ser Feita|Jeferson Klau|530c4a2a-d0a1-70e0-b58c-c2ecf8b8052b|\n",
      "|LIST#20250205|ITEM#e7f6c011776e8db7cd330b54174fd76f7d0216b612387a5ffcfb81e6f0919683|2025-02-05|e7f6c011776e8db7cd330b54174fd76f7d0216b612387a5ffcfb81e6f0919683|Blanditiis corrupti quasi                             |todo  |NULL         |Tarefa a Ser Feita|Jeferson Klau|530c4a2a-d0a1-70e0-b58c-c2ecf8b8052b|\n",
      "|LIST#20250213|ITEM#7902699be42c8a8e46fbbb4501726517e86b22c56a189f7625a6da49081b2451|2025-02-13|7902699be42c8a8e46fbbb4501726517e86b22c56a189f7625a6da49081b2451|Comprar esse                                          |done  |2025-06-02   |Item de Compra    |Jeferson Klau|530c4a2a-d0a1-70e0-b58c-c2ecf8b8052b|\n",
      "|LIST#20240331|ITEM#2c624232cdd221771294dfbb310aca000a0df6ac8b66b696d90ef06fdefb64a3|2024-03-31|2c624232cdd221771294dfbb310aca000a0df6ac8b66b696d90ef06fdefb64a3|Sunt soluta officia quam nesciunt                     |todo  |NULL         |Tarefa a Ser Feita|Jeferson Klau|530c4a2a-d0a1-70e0-b58c-c2ecf8b8052b|\n",
      "|LIST#20241112|ITEM#19581e27de7ced00ff1ce50b2047e7a567c76b1cbaebabe5ef03f7c3017bb5b7|2024-11-12|19581e27de7ced00ff1ce50b2047e7a567c76b1cbaebabe5ef03f7c3017bb5b7|Comprar ab                                            |todo  |NULL         |Item de Compra    |Jeferson Klau|530c4a2a-d0a1-70e0-b58c-c2ecf8b8052b|\n",
      "|LIST#20240210|ITEM#4a44dc15364204a80fe80e9039455cc1608281820fe2b24f1e5233ade6af1dd5|2024-02-10|4a44dc15364204a80fe80e9039455cc1608281820fe2b24f1e5233ade6af1dd5|Amet beatae esse                                      |done  |2024-02-14   |Tarefa a Ser Feita|Jeferson Klau|530c4a2a-d0a1-70e0-b58c-c2ecf8b8052b|\n",
      "|LIST#20250312|ITEM#4fc82b26aecb47d2868c4efbe3581732a3e7cbcc6c2efb32062c08170a05eeb8|2025-03-12|4fc82b26aecb47d2868c4efbe3581732a3e7cbcc6c2efb32062c08170a05eeb8|Modi                                                  |todo  |NULL         |Tarefa a Ser Feita|Jeferson Klau|530c4a2a-d0a1-70e0-b58c-c2ecf8b8052b|\n",
      "|LIST#20250525|ITEM#6b51d431df5d7f141cbececcf79edf3dd861c3b4069f0b11661a3eefacbba918|2025-05-25|6b51d431df5d7f141cbececcf79edf3dd861c3b4069f0b11661a3eefacbba918|Comprar sed                                           |todo  |NULL         |Item de Compra    |Jeferson Klau|530c4a2a-d0a1-70e0-b58c-c2ecf8b8052b|\n",
      "|LIST#20240921|ITEM#3fdba35f04dc8c462986c992bcf875546257113072a909c162f7e470e581e278|2024-09-21|3fdba35f04dc8c462986c992bcf875546257113072a909c162f7e470e581e278|Comprar ullam                                         |done  |2025-01-25   |Item de Compra    |Jeferson Klau|530c4a2a-d0a1-70e0-b58c-c2ecf8b8052b|\n",
      "|LIST#20240519|ITEM#8527a891e224136950ff32ca212b45bc93f69fbb801c3b1ebedac52775f99e61|2024-05-19|8527a891e224136950ff32ca212b45bc93f69fbb801c3b1ebedac52775f99e61|Ipsa accusantium voluptate                            |done  |2025-01-12   |Tarefa a Ser Feita|Jeferson Klau|530c4a2a-d0a1-70e0-b58c-c2ecf8b8052b|\n",
      "|LIST#20240710|ITEM#e629fa6598d732768f7c726b4b621285f9c3b85303900aa912017db7617d8bdb|2024-07-10|e629fa6598d732768f7c726b4b621285f9c3b85303900aa912017db7617d8bdb|Doloremque excepturi repellendus ad iusto aut         |done  |2025-01-16   |Tarefa a Ser Feita|Jeferson Klau|530c4a2a-d0a1-70e0-b58c-c2ecf8b8052b|\n",
      "|LIST#20231216|ITEM#b17ef6d19c7a5b1ee83b907c595526dcb1eb06db8227d650d5dda0a9f4ce8cd9|2023-12-16|b17ef6d19c7a5b1ee83b907c595526dcb1eb06db8227d650d5dda0a9f4ce8cd9|Ad iusto culpa                                        |todo  |NULL         |Tarefa a Ser Feita|Jeferson Klau|530c4a2a-d0a1-70e0-b58c-c2ecf8b8052b|\n",
      "|LIST#20241010|ITEM#4523540f1504cd17100c4835e85b7eefd49911580f8efff0599a8f283be6b9e3|2024-10-10|4523540f1504cd17100c4835e85b7eefd49911580f8efff0599a8f283be6b9e3|Rerum animi ducimus vel                               |done  |2024-12-13   |Tarefa a Ser Feita|Jeferson Klau|530c4a2a-d0a1-70e0-b58c-c2ecf8b8052b|\n",
      "|LIST#20240310|ITEM#4ec9599fc203d176a301536c2e091a19bc852759b255bd6818810a42c5fed14a|2024-03-10|4ec9599fc203d176a301536c2e091a19bc852759b255bd6818810a42c5fed14a|Comprar aspernatur                                    |todo  |NULL         |Item de Compra    |Jeferson Klau|530c4a2a-d0a1-70e0-b58c-c2ecf8b8052b|\n",
      "|LIST#20240708|ITEM#9400f1b21cb527d7fa3d3eabba93557a18ebe7a2ca4e471cfe5e4c5b4ca7f767|2024-07-08|9400f1b21cb527d7fa3d3eabba93557a18ebe7a2ca4e471cfe5e4c5b4ca7f767|Fuga quae corporis dignissimos voluptas dolorem ipsa  |todo  |NULL         |Tarefa a Ser Feita|Jeferson Klau|530c4a2a-d0a1-70e0-b58c-c2ecf8b8052b|\n",
      "|LIST#20240217|ITEM#f5ca38f748a1d6eaf726b8a42fb575c3c71f1864a8143301782de13da2d9202b|2024-02-17|f5ca38f748a1d6eaf726b8a42fb575c3c71f1864a8143301782de13da2d9202b|Facilis illo quibusdam                                |done  |2024-05-26   |Tarefa a Ser Feita|Jeferson Klau|530c4a2a-d0a1-70e0-b58c-c2ecf8b8052b|\n",
      "|LIST#20241207|ITEM#6f4b6612125fb3a0daecd2799dfd6c9c299424fd920f9b308110a2c1fbd8f443|2024-12-07|6f4b6612125fb3a0daecd2799dfd6c9c299424fd920f9b308110a2c1fbd8f443|Minus quisquam quae                                   |done  |2025-06-02   |Tarefa a Ser Feita|Jeferson Klau|530c4a2a-d0a1-70e0-b58c-c2ecf8b8052b|\n",
      "|LIST#20231231|ITEM#785f3ec7eb32f30b90cd0fcf3657d388b5ff4297f2f9716ff66e9b69c05ddd09|2023-12-31|785f3ec7eb32f30b90cd0fcf3657d388b5ff4297f2f9716ff66e9b69c05ddd09|Delectus cum aut rem earum                            |done  |2024-06-10   |Tarefa a Ser Feita|Jeferson Klau|530c4a2a-d0a1-70e0-b58c-c2ecf8b8052b|\n",
      "|LIST#20250509|ITEM#535fa30d7e25dd8a49f1536779734ec8286108d115da5045d77f3b4185d8f790|2025-05-09|535fa30d7e25dd8a49f1536779734ec8286108d115da5045d77f3b4185d8f790|Nobis fugit earum enim quo ipsa                       |todo  |NULL         |Tarefa a Ser Feita|Jeferson Klau|530c4a2a-d0a1-70e0-b58c-c2ecf8b8052b|\n",
      "|LIST#20231207|ITEM#c2356069e9d1e79ca924378153cfbbfb4d4416b1f99d41a2940bfdb66c5319db|2023-12-07|c2356069e9d1e79ca924378153cfbbfb4d4416b1f99d41a2940bfdb66c5319db|Atque nostrum eveniet aperiam                         |done  |2024-04-17   |Tarefa a Ser Feita|Jeferson Klau|530c4a2a-d0a1-70e0-b58c-c2ecf8b8052b|\n",
      "|LIST#20241018|ITEM#b7a56873cd771f2c446d369b649430b65a756ba278ff97ec81bb6f55b2e73569|2024-10-18|b7a56873cd771f2c446d369b649430b65a756ba278ff97ec81bb6f55b2e73569|Natus cum voluptas accusamus assumenda magni          |done  |2024-12-31   |Tarefa a Ser Feita|Jeferson Klau|530c4a2a-d0a1-70e0-b58c-c2ecf8b8052b|\n",
      "|LIST#20231015|ITEM#5f9c4ab08cac7457e9111a30e4664920607ea2c115a1433d7be98e97e64244ca|2023-10-15|5f9c4ab08cac7457e9111a30e4664920607ea2c115a1433d7be98e97e64244ca|Dolore harum quos omnis maxime facilis                |todo  |NULL         |Tarefa a Ser Feita|Jeferson Klau|530c4a2a-d0a1-70e0-b58c-c2ecf8b8052b|\n",
      "|LIST#20240603|ITEM#670671cd97404156226e507973f2ab8330d3022ca96e0c93bdbdb320c41adcaf|2024-06-03|670671cd97404156226e507973f2ab8330d3022ca96e0c93bdbdb320c41adcaf|Fuga ipsam autem alias commodi                        |todo  |NULL         |Tarefa a Ser Feita|Jeferson Klau|530c4a2a-d0a1-70e0-b58c-c2ecf8b8052b|\n",
      "|LIST#20240413|ITEM#59e19706d51d39f66711c2653cd7eb1291c94d9b55eb14bda74ce4dc636d015a|2024-04-13|59e19706d51d39f66711c2653cd7eb1291c94d9b55eb14bda74ce4dc636d015a|Facilis non                                           |done  |2025-03-03   |Tarefa a Ser Feita|Jeferson Klau|530c4a2a-d0a1-70e0-b58c-c2ecf8b8052b|\n",
      "|LIST#20241126|ITEM#35135aaa6cc23891b40cb3f378c53a17a1127210ce60e125ccf03efcfdaec458|2024-11-26|35135aaa6cc23891b40cb3f378c53a17a1127210ce60e125ccf03efcfdaec458|Quis voluptatem                                       |todo  |NULL         |Tarefa a Ser Feita|Jeferson Klau|530c4a2a-d0a1-70e0-b58c-c2ecf8b8052b|\n",
      "|LIST#20230619|ITEM#624b60c58c9d8bfb6ff1886c2fd605d2adeb6ea4da576068201b6c6958ce93f4|2023-06-19|624b60c58c9d8bfb6ff1886c2fd605d2adeb6ea4da576068201b6c6958ce93f4|Sunt beatae                                           |done  |2024-01-30   |Tarefa a Ser Feita|Jeferson Klau|530c4a2a-d0a1-70e0-b58c-c2ecf8b8052b|\n",
      "|LIST#20240725|ITEM#eb1e33e8a81b697b75855af6bfcdbcbf7cbbde9f94962ceaec1ed8af21f5a50f|2024-07-25|eb1e33e8a81b697b75855af6bfcdbcbf7cbbde9f94962ceaec1ed8af21f5a50f|Comprar voluptatum                                    |done  |2025-04-13   |Item de Compra    |Jeferson Klau|530c4a2a-d0a1-70e0-b58c-c2ecf8b8052b|\n",
      "|LIST#20250322|ITEM#e29c9c180c6279b0b02abd6a1801c7c04082cf486ec027aa13515e4f3884bb6b|2025-03-22|e29c9c180c6279b0b02abd6a1801c7c04082cf486ec027aa13515e4f3884bb6b|Ipsum doloremque officiis ipsa assumenda sint         |done  |2025-06-02   |Tarefa a Ser Feita|Jeferson Klau|530c4a2a-d0a1-70e0-b58c-c2ecf8b8052b|\n",
      "|LIST#20241005|ITEM#c6f3ac57944a531490cd39902d0f777715fd005efac9a30622d5f5205e7f6894|2024-10-05|c6f3ac57944a531490cd39902d0f777715fd005efac9a30622d5f5205e7f6894|Beatae architecto nam                                 |todo  |NULL         |Tarefa a Ser Feita|Jeferson Klau|530c4a2a-d0a1-70e0-b58c-c2ecf8b8052b|\n",
      "|LIST#20241024|ITEM#86e50149658661312a9e0b35558d84f6c6d3da797f552a9657fe0558ca40cdef|2024-10-24|86e50149658661312a9e0b35558d84f6c6d3da797f552a9657fe0558ca40cdef|Nihil ullam mollitia nobis atque                      |done  |2025-06-02   |Tarefa a Ser Feita|Jeferson Klau|530c4a2a-d0a1-70e0-b58c-c2ecf8b8052b|\n",
      "|LIST#20230921|ITEM#9f14025af0065b30e47e23ebb3b491d39ae8ed17d33739e5ff3827ffb3634953|2023-09-21|9f14025af0065b30e47e23ebb3b491d39ae8ed17d33739e5ff3827ffb3634953|Comprar occaecati                                     |done  |2024-02-11   |Item de Compra    |Jeferson Klau|530c4a2a-d0a1-70e0-b58c-c2ecf8b8052b|\n",
      "|LIST#20240211|ITEM#76a50887d8f1c2e9301755428990ad81479ee21c25b43215cf524541e0503269|2024-02-11|76a50887d8f1c2e9301755428990ad81479ee21c25b43215cf524541e0503269|Pariatur saepe temporibus mollitia qui inventore omnis|done  |2024-10-23   |Tarefa a Ser Feita|Jeferson Klau|530c4a2a-d0a1-70e0-b58c-c2ecf8b8052b|\n",
      "+-------------+---------------------------------------------------------------------+----------+----------------------------------------------------------------+------------------------------------------------------+------+-------------+------------------+-------------+------------------------------------+\n",
      "\n"
     ]
    }
   ],
   "source": [
    "df_final.show(100, truncate=False)"
   ]
  },
  {
   "cell_type": "code",
   "execution_count": null,
   "id": "bdee309b",
   "metadata": {},
   "outputs": [
    {
     "name": "stdout",
     "output_type": "stream",
     "text": [
      "Inserção em lote concluída com sucesso!\n"
     ]
    }
   ],
   "source": [
    "dynamodb = boto3.resource('dynamodb', region_name='sa-east-1')  \n",
    "table = dynamodb.Table(\"TableTeste\")\n",
    "\n",
    "dados = [row.asDict() for row in df_final.collect()]  \n",
    "\n",
    "try:\n",
    "    with table.batch_writer() as batch:\n",
    "        for item in dados:  \n",
    "            batch.put_item(Item=item)\n",
    "    print(\"Inserção em lote concluída com sucesso!\")\n",
    "except ClientError as e:\n",
    "    print(f\"Erro na inserção em lote: {e.response['Error']['Message']}\")\n",
    "except Exception as e:\n",
    "    print(f\"Ocorreu um erro inesperado: {e}\")"
   ]
  }
 ],
 "metadata": {
  "kernelspec": {
   "display_name": ".venv",
   "language": "python",
   "name": "python3"
  },
  "language_info": {
   "codemirror_mode": {
    "name": "ipython",
    "version": 3
   },
   "file_extension": ".py",
   "mimetype": "text/x-python",
   "name": "python",
   "nbconvert_exporter": "python",
   "pygments_lexer": "ipython3",
   "version": "3.13.3"
  }
 },
 "nbformat": 4,
 "nbformat_minor": 5
}
